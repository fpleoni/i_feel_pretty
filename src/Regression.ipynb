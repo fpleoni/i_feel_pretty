{
 "cells": [
  {
   "cell_type": "code",
   "execution_count": 41,
   "metadata": {},
   "outputs": [],
   "source": [
    "import ast\n",
    "from bs4 import BeautifulSoup\n",
    "import csv\n",
    "import json\n",
    "import pandas as pd\n",
    "import matplotlib.pyplot as plt\n",
    "import numpy as np\n",
    "import pylab\n",
    "import re\n",
    "import requests\n",
    "from sklearn.preprocessing import PolynomialFeatures\n",
    "from sklearn.linear_model import LinearRegression\n",
    "from sklearn.model_selection import train_test_split\n",
    "from scipy import stats\n",
    "import seaborn as sns\n",
    "import statsmodels\n",
    "import statsmodels.api as sm\n",
    "import statsmodels.formula.api as smf\n",
    "import sqlite3\n",
    "from sqlite3 import Error\n",
    "import time\n",
    "import warnings\n",
    "warnings.filterwarnings(\"ignore\")\n",
    "plt.style.use(\"fivethirtyeight\")\n",
    "sns.set_style(\"darkgrid\")"
   ]
  },
  {
   "cell_type": "code",
   "execution_count": 42,
   "metadata": {},
   "outputs": [],
   "source": [
    "# Loading skincare_df data set\n",
    "skincare_df = pd.read_csv(\"/Users/florencialeoni/code/i_feel_pretty/data/skincare_df.csv\")"
   ]
  },
  {
   "cell_type": "code",
   "execution_count": 43,
   "metadata": {
    "collapsed": true
   },
   "outputs": [
    {
     "data": {
      "text/html": [
       "<div>\n",
       "<style scoped>\n",
       "    .dataframe tbody tr th:only-of-type {\n",
       "        vertical-align: middle;\n",
       "    }\n",
       "\n",
       "    .dataframe tbody tr th {\n",
       "        vertical-align: top;\n",
       "    }\n",
       "\n",
       "    .dataframe thead th {\n",
       "        text-align: right;\n",
       "    }\n",
       "</style>\n",
       "<table border=\"1\" class=\"dataframe\">\n",
       "  <thead>\n",
       "    <tr style=\"text-align: right;\">\n",
       "      <th></th>\n",
       "      <th>Unnamed: 0</th>\n",
       "      <th>brand</th>\n",
       "      <th>name</th>\n",
       "      <th>price</th>\n",
       "      <th>n_of_reviews</th>\n",
       "      <th>n_of_loves</th>\n",
       "      <th>review_score</th>\n",
       "      <th>size</th>\n",
       "      <th>clean_product</th>\n",
       "      <th>category_Anti-Aging</th>\n",
       "      <th>...</th>\n",
       "      <th>category_Setting_Spray_&amp;_Powder</th>\n",
       "      <th>category_Sheet_Masks</th>\n",
       "      <th>category_Skincare</th>\n",
       "      <th>category_Tinted_Moisturizer</th>\n",
       "      <th>category_Toners</th>\n",
       "      <th>category_Tools</th>\n",
       "      <th>category_Value_&amp;_Gift_Sets</th>\n",
       "      <th>reviews_to_loves_ratio</th>\n",
       "      <th>return_on_reviews</th>\n",
       "      <th>price_per_ounce</th>\n",
       "    </tr>\n",
       "  </thead>\n",
       "  <tbody>\n",
       "    <tr>\n",
       "      <th>0</th>\n",
       "      <td>0</td>\n",
       "      <td>Drunk Elephant</td>\n",
       "      <td>Protini Polypeptide Moisturizer</td>\n",
       "      <td>68.0</td>\n",
       "      <td>1000</td>\n",
       "      <td>136008</td>\n",
       "      <td>4.2097</td>\n",
       "      <td>1.69</td>\n",
       "      <td>1</td>\n",
       "      <td>0</td>\n",
       "      <td>...</td>\n",
       "      <td>0</td>\n",
       "      <td>0</td>\n",
       "      <td>0</td>\n",
       "      <td>0</td>\n",
       "      <td>0</td>\n",
       "      <td>0</td>\n",
       "      <td>0</td>\n",
       "      <td>0.74</td>\n",
       "      <td>0.42</td>\n",
       "      <td>40.24</td>\n",
       "    </tr>\n",
       "    <tr>\n",
       "      <th>1</th>\n",
       "      <td>1</td>\n",
       "      <td>La Mer</td>\n",
       "      <td>Crreme de la Mer</td>\n",
       "      <td>175.0</td>\n",
       "      <td>493</td>\n",
       "      <td>61648</td>\n",
       "      <td>4.0974</td>\n",
       "      <td>1.00</td>\n",
       "      <td>0</td>\n",
       "      <td>0</td>\n",
       "      <td>...</td>\n",
       "      <td>0</td>\n",
       "      <td>0</td>\n",
       "      <td>0</td>\n",
       "      <td>0</td>\n",
       "      <td>0</td>\n",
       "      <td>0</td>\n",
       "      <td>0</td>\n",
       "      <td>0.80</td>\n",
       "      <td>0.83</td>\n",
       "      <td>175.00</td>\n",
       "    </tr>\n",
       "    <tr>\n",
       "      <th>2</th>\n",
       "      <td>2</td>\n",
       "      <td>IT Cosmetics</td>\n",
       "      <td>CC+ Cream with SPF 50+</td>\n",
       "      <td>39.0</td>\n",
       "      <td>2000</td>\n",
       "      <td>188389</td>\n",
       "      <td>4.0403</td>\n",
       "      <td>1.08</td>\n",
       "      <td>0</td>\n",
       "      <td>0</td>\n",
       "      <td>...</td>\n",
       "      <td>0</td>\n",
       "      <td>0</td>\n",
       "      <td>0</td>\n",
       "      <td>0</td>\n",
       "      <td>0</td>\n",
       "      <td>0</td>\n",
       "      <td>0</td>\n",
       "      <td>1.06</td>\n",
       "      <td>0.20</td>\n",
       "      <td>36.11</td>\n",
       "    </tr>\n",
       "    <tr>\n",
       "      <th>3</th>\n",
       "      <td>3</td>\n",
       "      <td>Tatcha</td>\n",
       "      <td>The Water Cream</td>\n",
       "      <td>68.0</td>\n",
       "      <td>1000</td>\n",
       "      <td>149323</td>\n",
       "      <td>4.2447</td>\n",
       "      <td>1.70</td>\n",
       "      <td>1</td>\n",
       "      <td>0</td>\n",
       "      <td>...</td>\n",
       "      <td>0</td>\n",
       "      <td>0</td>\n",
       "      <td>0</td>\n",
       "      <td>0</td>\n",
       "      <td>0</td>\n",
       "      <td>0</td>\n",
       "      <td>0</td>\n",
       "      <td>0.67</td>\n",
       "      <td>0.42</td>\n",
       "      <td>40.00</td>\n",
       "    </tr>\n",
       "    <tr>\n",
       "      <th>4</th>\n",
       "      <td>4</td>\n",
       "      <td>SK-II</td>\n",
       "      <td>Facial Treatment Essence</td>\n",
       "      <td>179.0</td>\n",
       "      <td>788</td>\n",
       "      <td>68880</td>\n",
       "      <td>4.0622</td>\n",
       "      <td>NaN</td>\n",
       "      <td>0</td>\n",
       "      <td>0</td>\n",
       "      <td>...</td>\n",
       "      <td>0</td>\n",
       "      <td>0</td>\n",
       "      <td>0</td>\n",
       "      <td>0</td>\n",
       "      <td>0</td>\n",
       "      <td>0</td>\n",
       "      <td>0</td>\n",
       "      <td>1.14</td>\n",
       "      <td>0.52</td>\n",
       "      <td>NaN</td>\n",
       "    </tr>\n",
       "  </tbody>\n",
       "</table>\n",
       "<p>5 rows × 47 columns</p>\n",
       "</div>"
      ],
      "text/plain": [
       "   Unnamed: 0           brand                             name  price  \\\n",
       "0           0  Drunk Elephant  Protini Polypeptide Moisturizer   68.0   \n",
       "1           1          La Mer                 Crreme de la Mer  175.0   \n",
       "2           2    IT Cosmetics           CC+ Cream with SPF 50+   39.0   \n",
       "3           3          Tatcha                  The Water Cream   68.0   \n",
       "4           4           SK-II         Facial Treatment Essence  179.0   \n",
       "\n",
       "   n_of_reviews  n_of_loves  review_score  size  clean_product  \\\n",
       "0          1000      136008        4.2097  1.69              1   \n",
       "1           493       61648        4.0974  1.00              0   \n",
       "2          2000      188389        4.0403  1.08              0   \n",
       "3          1000      149323        4.2447  1.70              1   \n",
       "4           788       68880        4.0622   NaN              0   \n",
       "\n",
       "   category_Anti-Aging       ...         category_Setting_Spray_&_Powder  \\\n",
       "0                    0       ...                                       0   \n",
       "1                    0       ...                                       0   \n",
       "2                    0       ...                                       0   \n",
       "3                    0       ...                                       0   \n",
       "4                    0       ...                                       0   \n",
       "\n",
       "   category_Sheet_Masks  category_Skincare  category_Tinted_Moisturizer  \\\n",
       "0                     0                  0                            0   \n",
       "1                     0                  0                            0   \n",
       "2                     0                  0                            0   \n",
       "3                     0                  0                            0   \n",
       "4                     0                  0                            0   \n",
       "\n",
       "   category_Toners  category_Tools  category_Value_&_Gift_Sets  \\\n",
       "0                0               0                           0   \n",
       "1                0               0                           0   \n",
       "2                0               0                           0   \n",
       "3                0               0                           0   \n",
       "4                0               0                           0   \n",
       "\n",
       "   reviews_to_loves_ratio  return_on_reviews  price_per_ounce  \n",
       "0                    0.74               0.42            40.24  \n",
       "1                    0.80               0.83           175.00  \n",
       "2                    1.06               0.20            36.11  \n",
       "3                    0.67               0.42            40.00  \n",
       "4                    1.14               0.52              NaN  \n",
       "\n",
       "[5 rows x 47 columns]"
      ]
     },
     "execution_count": 43,
     "metadata": {},
     "output_type": "execute_result"
    }
   ],
   "source": [
    "skincare_df.head()"
   ]
  },
  {
   "cell_type": "code",
   "execution_count": 44,
   "metadata": {},
   "outputs": [],
   "source": [
    "# Loading pretty_numbers data set\n",
    "pretty_numbers = pd.read_csv(\"/Users/florencialeoni/code/i_feel_pretty/data/pretty_numbers.csv\")"
   ]
  },
  {
   "cell_type": "code",
   "execution_count": 45,
   "metadata": {
    "collapsed": true
   },
   "outputs": [
    {
     "data": {
      "text/html": [
       "<div>\n",
       "<style scoped>\n",
       "    .dataframe tbody tr th:only-of-type {\n",
       "        vertical-align: middle;\n",
       "    }\n",
       "\n",
       "    .dataframe tbody tr th {\n",
       "        vertical-align: top;\n",
       "    }\n",
       "\n",
       "    .dataframe thead th {\n",
       "        text-align: right;\n",
       "    }\n",
       "</style>\n",
       "<table border=\"1\" class=\"dataframe\">\n",
       "  <thead>\n",
       "    <tr style=\"text-align: right;\">\n",
       "      <th></th>\n",
       "      <th>Unnamed: 0</th>\n",
       "      <th>price</th>\n",
       "      <th>n_of_reviews</th>\n",
       "      <th>n_of_loves</th>\n",
       "      <th>review_score</th>\n",
       "      <th>size</th>\n",
       "      <th>clean_product</th>\n",
       "      <th>category_Anti-Aging</th>\n",
       "      <th>category_BB_&amp;_CC_Cream</th>\n",
       "      <th>category_Bath_&amp;_Shower</th>\n",
       "      <th>...</th>\n",
       "      <th>category_Skincare</th>\n",
       "      <th>category_Tinted_Moisturizer</th>\n",
       "      <th>category_Toners</th>\n",
       "      <th>category_Tools</th>\n",
       "      <th>category_Value_&amp;_Gift_Sets</th>\n",
       "      <th>reviews_to_loves_ratio</th>\n",
       "      <th>return_on_reviews</th>\n",
       "      <th>price_per_ounce</th>\n",
       "      <th>reviews_to_loves_log</th>\n",
       "      <th>return_on_reviews_log</th>\n",
       "    </tr>\n",
       "  </thead>\n",
       "  <tbody>\n",
       "    <tr>\n",
       "      <th>0</th>\n",
       "      <td>0</td>\n",
       "      <td>68.0</td>\n",
       "      <td>1000</td>\n",
       "      <td>136008</td>\n",
       "      <td>4.2097</td>\n",
       "      <td>1.69</td>\n",
       "      <td>1</td>\n",
       "      <td>0</td>\n",
       "      <td>0</td>\n",
       "      <td>0</td>\n",
       "      <td>...</td>\n",
       "      <td>0</td>\n",
       "      <td>0</td>\n",
       "      <td>0</td>\n",
       "      <td>0</td>\n",
       "      <td>0</td>\n",
       "      <td>0.74</td>\n",
       "      <td>0.42</td>\n",
       "      <td>40.24</td>\n",
       "      <td>-0.30</td>\n",
       "      <td>-0.87</td>\n",
       "    </tr>\n",
       "    <tr>\n",
       "      <th>1</th>\n",
       "      <td>1</td>\n",
       "      <td>175.0</td>\n",
       "      <td>493</td>\n",
       "      <td>61648</td>\n",
       "      <td>4.0974</td>\n",
       "      <td>1.00</td>\n",
       "      <td>0</td>\n",
       "      <td>0</td>\n",
       "      <td>0</td>\n",
       "      <td>0</td>\n",
       "      <td>...</td>\n",
       "      <td>0</td>\n",
       "      <td>0</td>\n",
       "      <td>0</td>\n",
       "      <td>0</td>\n",
       "      <td>0</td>\n",
       "      <td>0.80</td>\n",
       "      <td>0.83</td>\n",
       "      <td>175.00</td>\n",
       "      <td>-0.22</td>\n",
       "      <td>-0.19</td>\n",
       "    </tr>\n",
       "    <tr>\n",
       "      <th>2</th>\n",
       "      <td>2</td>\n",
       "      <td>39.0</td>\n",
       "      <td>2000</td>\n",
       "      <td>188389</td>\n",
       "      <td>4.0403</td>\n",
       "      <td>1.08</td>\n",
       "      <td>0</td>\n",
       "      <td>0</td>\n",
       "      <td>1</td>\n",
       "      <td>0</td>\n",
       "      <td>...</td>\n",
       "      <td>0</td>\n",
       "      <td>0</td>\n",
       "      <td>0</td>\n",
       "      <td>0</td>\n",
       "      <td>0</td>\n",
       "      <td>1.06</td>\n",
       "      <td>0.20</td>\n",
       "      <td>36.11</td>\n",
       "      <td>0.06</td>\n",
       "      <td>-1.61</td>\n",
       "    </tr>\n",
       "    <tr>\n",
       "      <th>3</th>\n",
       "      <td>3</td>\n",
       "      <td>68.0</td>\n",
       "      <td>1000</td>\n",
       "      <td>149323</td>\n",
       "      <td>4.2447</td>\n",
       "      <td>1.70</td>\n",
       "      <td>1</td>\n",
       "      <td>0</td>\n",
       "      <td>0</td>\n",
       "      <td>0</td>\n",
       "      <td>...</td>\n",
       "      <td>0</td>\n",
       "      <td>0</td>\n",
       "      <td>0</td>\n",
       "      <td>0</td>\n",
       "      <td>0</td>\n",
       "      <td>0.67</td>\n",
       "      <td>0.42</td>\n",
       "      <td>40.00</td>\n",
       "      <td>-0.40</td>\n",
       "      <td>-0.87</td>\n",
       "    </tr>\n",
       "    <tr>\n",
       "      <th>4</th>\n",
       "      <td>4</td>\n",
       "      <td>179.0</td>\n",
       "      <td>788</td>\n",
       "      <td>68880</td>\n",
       "      <td>4.0622</td>\n",
       "      <td>NaN</td>\n",
       "      <td>0</td>\n",
       "      <td>0</td>\n",
       "      <td>0</td>\n",
       "      <td>0</td>\n",
       "      <td>...</td>\n",
       "      <td>0</td>\n",
       "      <td>0</td>\n",
       "      <td>0</td>\n",
       "      <td>0</td>\n",
       "      <td>0</td>\n",
       "      <td>1.14</td>\n",
       "      <td>0.52</td>\n",
       "      <td>NaN</td>\n",
       "      <td>0.13</td>\n",
       "      <td>-0.65</td>\n",
       "    </tr>\n",
       "  </tbody>\n",
       "</table>\n",
       "<p>5 rows × 47 columns</p>\n",
       "</div>"
      ],
      "text/plain": [
       "   Unnamed: 0  price  n_of_reviews  n_of_loves  review_score  size  \\\n",
       "0           0   68.0          1000      136008        4.2097  1.69   \n",
       "1           1  175.0           493       61648        4.0974  1.00   \n",
       "2           2   39.0          2000      188389        4.0403  1.08   \n",
       "3           3   68.0          1000      149323        4.2447  1.70   \n",
       "4           4  179.0           788       68880        4.0622   NaN   \n",
       "\n",
       "   clean_product  category_Anti-Aging  category_BB_&_CC_Cream  \\\n",
       "0              1                    0                       0   \n",
       "1              0                    0                       0   \n",
       "2              0                    0                       1   \n",
       "3              1                    0                       0   \n",
       "4              0                    0                       0   \n",
       "\n",
       "   category_Bath_&_Shower          ...            category_Skincare  \\\n",
       "0                       0          ...                            0   \n",
       "1                       0          ...                            0   \n",
       "2                       0          ...                            0   \n",
       "3                       0          ...                            0   \n",
       "4                       0          ...                            0   \n",
       "\n",
       "   category_Tinted_Moisturizer  category_Toners  category_Tools  \\\n",
       "0                            0                0               0   \n",
       "1                            0                0               0   \n",
       "2                            0                0               0   \n",
       "3                            0                0               0   \n",
       "4                            0                0               0   \n",
       "\n",
       "   category_Value_&_Gift_Sets  reviews_to_loves_ratio  return_on_reviews  \\\n",
       "0                           0                    0.74               0.42   \n",
       "1                           0                    0.80               0.83   \n",
       "2                           0                    1.06               0.20   \n",
       "3                           0                    0.67               0.42   \n",
       "4                           0                    1.14               0.52   \n",
       "\n",
       "   price_per_ounce  reviews_to_loves_log  return_on_reviews_log  \n",
       "0            40.24                 -0.30                  -0.87  \n",
       "1           175.00                 -0.22                  -0.19  \n",
       "2            36.11                  0.06                  -1.61  \n",
       "3            40.00                 -0.40                  -0.87  \n",
       "4              NaN                  0.13                  -0.65  \n",
       "\n",
       "[5 rows x 47 columns]"
      ]
     },
     "execution_count": 45,
     "metadata": {},
     "output_type": "execute_result"
    }
   ],
   "source": [
    "pretty_numbers.head()"
   ]
  },
  {
   "cell_type": "code",
   "execution_count": 106,
   "metadata": {},
   "outputs": [
    {
     "data": {
      "text/plain": [
       "Index(['price', 'n_of_reviews', 'n_of_loves', 'review_score', 'size',\n",
       "       'clean_product', 'category_Anti-Aging', 'category_BB_&_CC_Cream',\n",
       "       'category_Bath_&_Shower', 'category_Beauty_Supplements',\n",
       "       'category_Blemish_&_Acne_Treatments', 'category_Blotting_Papers',\n",
       "       'category_Body_Lotions_&_Body_Oils',\n",
       "       'category_Cellulite_&_Stretch_Marks',\n",
       "       'category_Decollete_&_Neck_Creams', 'category_Exfoliators',\n",
       "       'category_Eye_Creams_&_Treatments', 'category_Eye_Masks',\n",
       "       'category_Face_Masks', 'category_Face_Oils', 'category_Face_Primer',\n",
       "       'category_Face_Serums', 'category_Face_Sunscreen',\n",
       "       'category_Face_Wash_&_Cleansers', 'category_Facial_Peels',\n",
       "       'category_Foundation', 'category_Hair_Oil', 'category_Highlighter',\n",
       "       'category_Holistic_Wellness', 'category_Mini_Size',\n",
       "       'category_Mists_&_Essences', 'category_Moisturizer_&_Treatments',\n",
       "       'category_Moisturizers', 'category_Night_Creams',\n",
       "       'category_Setting_Spray_&_Powder', 'category_Sheet_Masks',\n",
       "       'category_Skincare', 'category_Tinted_Moisturizer', 'category_Toners',\n",
       "       'category_Tools', 'category_Value_&_Gift_Sets',\n",
       "       'reviews_to_loves_ratio', 'return_on_reviews', 'price_per_ounce',\n",
       "       'reviews_to_loves_log', 'return_on_reviews_log'],\n",
       "      dtype='object')"
      ]
     },
     "execution_count": 106,
     "metadata": {},
     "output_type": "execute_result"
    }
   ],
   "source": [
    "pretty_numbers.columns"
   ]
  },
  {
   "cell_type": "code",
   "execution_count": 46,
   "metadata": {},
   "outputs": [],
   "source": [
    "# Loading pretty_regression data set\n",
    "pretty_regression = pd.read_csv(\"/Users/florencialeoni/code/i_feel_pretty/data/pretty_regression.csv\")"
   ]
  },
  {
   "cell_type": "code",
   "execution_count": 47,
   "metadata": {
    "collapsed": true
   },
   "outputs": [
    {
     "data": {
      "text/html": [
       "<div>\n",
       "<style scoped>\n",
       "    .dataframe tbody tr th:only-of-type {\n",
       "        vertical-align: middle;\n",
       "    }\n",
       "\n",
       "    .dataframe tbody tr th {\n",
       "        vertical-align: top;\n",
       "    }\n",
       "\n",
       "    .dataframe thead th {\n",
       "        text-align: right;\n",
       "    }\n",
       "</style>\n",
       "<table border=\"1\" class=\"dataframe\">\n",
       "  <thead>\n",
       "    <tr style=\"text-align: right;\">\n",
       "      <th></th>\n",
       "      <th>Unnamed: 0</th>\n",
       "      <th>price</th>\n",
       "      <th>n_of_reviews</th>\n",
       "      <th>n_of_loves</th>\n",
       "      <th>review_score</th>\n",
       "      <th>size</th>\n",
       "      <th>clean_product</th>\n",
       "      <th>return_on_reviews</th>\n",
       "      <th>reviews_to_loves_ratio</th>\n",
       "      <th>price_per_ounce</th>\n",
       "    </tr>\n",
       "  </thead>\n",
       "  <tbody>\n",
       "    <tr>\n",
       "      <th>0</th>\n",
       "      <td>0</td>\n",
       "      <td>68.0</td>\n",
       "      <td>1000</td>\n",
       "      <td>136008</td>\n",
       "      <td>4.2097</td>\n",
       "      <td>1.69</td>\n",
       "      <td>1</td>\n",
       "      <td>0.42</td>\n",
       "      <td>0.74</td>\n",
       "      <td>40.24</td>\n",
       "    </tr>\n",
       "    <tr>\n",
       "      <th>1</th>\n",
       "      <td>1</td>\n",
       "      <td>175.0</td>\n",
       "      <td>493</td>\n",
       "      <td>61648</td>\n",
       "      <td>4.0974</td>\n",
       "      <td>1.00</td>\n",
       "      <td>0</td>\n",
       "      <td>0.83</td>\n",
       "      <td>0.80</td>\n",
       "      <td>175.00</td>\n",
       "    </tr>\n",
       "    <tr>\n",
       "      <th>2</th>\n",
       "      <td>2</td>\n",
       "      <td>39.0</td>\n",
       "      <td>2000</td>\n",
       "      <td>188389</td>\n",
       "      <td>4.0403</td>\n",
       "      <td>1.08</td>\n",
       "      <td>0</td>\n",
       "      <td>0.20</td>\n",
       "      <td>1.06</td>\n",
       "      <td>36.11</td>\n",
       "    </tr>\n",
       "    <tr>\n",
       "      <th>3</th>\n",
       "      <td>3</td>\n",
       "      <td>68.0</td>\n",
       "      <td>1000</td>\n",
       "      <td>149323</td>\n",
       "      <td>4.2447</td>\n",
       "      <td>1.70</td>\n",
       "      <td>1</td>\n",
       "      <td>0.42</td>\n",
       "      <td>0.67</td>\n",
       "      <td>40.00</td>\n",
       "    </tr>\n",
       "    <tr>\n",
       "      <th>4</th>\n",
       "      <td>4</td>\n",
       "      <td>179.0</td>\n",
       "      <td>788</td>\n",
       "      <td>68880</td>\n",
       "      <td>4.0622</td>\n",
       "      <td>NaN</td>\n",
       "      <td>0</td>\n",
       "      <td>0.52</td>\n",
       "      <td>1.14</td>\n",
       "      <td>NaN</td>\n",
       "    </tr>\n",
       "  </tbody>\n",
       "</table>\n",
       "</div>"
      ],
      "text/plain": [
       "   Unnamed: 0  price  n_of_reviews  n_of_loves  review_score  size  \\\n",
       "0           0   68.0          1000      136008        4.2097  1.69   \n",
       "1           1  175.0           493       61648        4.0974  1.00   \n",
       "2           2   39.0          2000      188389        4.0403  1.08   \n",
       "3           3   68.0          1000      149323        4.2447  1.70   \n",
       "4           4  179.0           788       68880        4.0622   NaN   \n",
       "\n",
       "   clean_product  return_on_reviews  reviews_to_loves_ratio  price_per_ounce  \n",
       "0              1               0.42                    0.74            40.24  \n",
       "1              0               0.83                    0.80           175.00  \n",
       "2              0               0.20                    1.06            36.11  \n",
       "3              1               0.42                    0.67            40.00  \n",
       "4              0               0.52                    1.14              NaN  "
      ]
     },
     "execution_count": 47,
     "metadata": {},
     "output_type": "execute_result"
    }
   ],
   "source": [
    "pretty_regression.head()"
   ]
  },
  {
   "cell_type": "code",
   "execution_count": 48,
   "metadata": {},
   "outputs": [],
   "source": [
    "# Drop Unnamed: 0 column from each dataframe\n",
    "skincare_df = skincare_df.drop([\"Unnamed: 0\"], axis=1)\n",
    "pretty_numbers = pretty_numbers.drop([\"Unnamed: 0\"], axis=1)\n",
    "pretty_regression = pretty_regression.drop([\"Unnamed: 0\"], axis=1)"
   ]
  },
  {
   "cell_type": "code",
   "execution_count": 50,
   "metadata": {},
   "outputs": [],
   "source": [
    "# Splitting the dataset\n",
    "train, test = train_test_split(pretty_numbers, test_size=0.2)"
   ]
  },
  {
   "cell_type": "code",
   "execution_count": 51,
   "metadata": {},
   "outputs": [],
   "source": [
    "# Splitting the dataset\n",
    "train_1, test_1 = train_test_split(pretty_regression, test_size=0.2)"
   ]
  },
  {
   "cell_type": "code",
   "execution_count": 79,
   "metadata": {},
   "outputs": [],
   "source": [
    "# Creating variables with training set\n",
    "n_of_reviews = train[\"n_of_reviews\"].as_matrix(columns=None)\n",
    "n_of_loves = train[\"n_of_loves\"].as_matrix(columns=None)\n",
    "reviews_to_loves_ratio = train[\"reviews_to_loves_ratio\"].as_matrix(columns=None)\n",
    "review_score = train[\"review_score\"].as_matrix(columns=None)"
   ]
  },
  {
   "cell_type": "code",
   "execution_count": 95,
   "metadata": {},
   "outputs": [
    {
     "data": {
      "text/plain": [
       "(1351,)"
      ]
     },
     "execution_count": 95,
     "metadata": {},
     "output_type": "execute_result"
    }
   ],
   "source": [
    "# Use scikit learn method to create polynomial features\n",
    "poly = PolynomialFeatures(degree=2)\n",
    "\n",
    "X2_reviews = poly.fit_transform(n_of_reviews.reshape(-1,1))\n",
    "X2_loves = poly.fit_transform(n_of_loves.reshape(-1,1))\n",
    "X2_review_love = poly.fit_transform(reviews_to_loves_ratio.reshape(-1,1))\n",
    "\n",
    "predict_score = poly.fit_transform([review_score])\n",
    "\n",
    "X2_reviews.shape\n",
    "review_score.shape"
   ]
  },
  {
   "cell_type": "code",
   "execution_count": 82,
   "metadata": {},
   "outputs": [
    {
     "data": {
      "text/plain": [
       "LinearRegression(copy_X=True, fit_intercept=True, n_jobs=None,\n",
       "         normalize=False)"
      ]
     },
     "execution_count": 82,
     "metadata": {},
     "output_type": "execute_result"
    }
   ],
   "source": [
    "# Linear regression\n",
    "\n",
    "lr_reviews = LinearRegression()\n",
    "lr_loves = LinearRegression()\n",
    "lr_review_love = LinearRegression()\n",
    "\n",
    "lr_reviews.fit(X2_reviews, review_score)\n",
    "lr_loves.fit(X2_loves, review_score)\n",
    "lr_review_love.fit(X2_review_love, review_score)"
   ]
  },
  {
   "cell_type": "code",
   "execution_count": 83,
   "metadata": {},
   "outputs": [
    {
     "data": {
      "text/plain": [
       "array([ 0.00000000e+00,  4.81234669e-05, -4.09332467e-09])"
      ]
     },
     "execution_count": 83,
     "metadata": {},
     "output_type": "execute_result"
    }
   ],
   "source": [
    "lr_reviews.coef_"
   ]
  },
  {
   "cell_type": "code",
   "execution_count": 84,
   "metadata": {
    "scrolled": true
   },
   "outputs": [
    {
     "data": {
      "text/plain": [
       "array([ 0.00000000e+00,  6.75454967e-07, -2.68856170e-12])"
      ]
     },
     "execution_count": 84,
     "metadata": {},
     "output_type": "execute_result"
    }
   ],
   "source": [
    "lr_loves.coef_"
   ]
  },
  {
   "cell_type": "code",
   "execution_count": 85,
   "metadata": {},
   "outputs": [
    {
     "data": {
      "text/plain": [
       "array([ 0.00000000e+00,  6.05574361e-03, -2.03358499e-05])"
      ]
     },
     "execution_count": 85,
     "metadata": {},
     "output_type": "execute_result"
    }
   ],
   "source": [
    "lr_review_love.coef_"
   ]
  },
  {
   "cell_type": "code",
   "execution_count": 86,
   "metadata": {},
   "outputs": [
    {
     "data": {
      "text/plain": [
       "4.1729014652110425"
      ]
     },
     "execution_count": 86,
     "metadata": {},
     "output_type": "execute_result"
    }
   ],
   "source": [
    "lr_reviews.intercept_"
   ]
  },
  {
   "cell_type": "code",
   "execution_count": 87,
   "metadata": {},
   "outputs": [
    {
     "data": {
      "text/plain": [
       "4.175854497138892"
      ]
     },
     "execution_count": 87,
     "metadata": {},
     "output_type": "execute_result"
    }
   ],
   "source": [
    "lr_loves.intercept_"
   ]
  },
  {
   "cell_type": "code",
   "execution_count": 88,
   "metadata": {
    "scrolled": true
   },
   "outputs": [
    {
     "data": {
      "text/plain": [
       "4.168431515692588"
      ]
     },
     "execution_count": 88,
     "metadata": {},
     "output_type": "execute_result"
    }
   ],
   "source": [
    "lr_review_love.intercept_"
   ]
  },
  {
   "cell_type": "code",
   "execution_count": 98,
   "metadata": {},
   "outputs": [
    {
     "data": {
      "text/plain": [
       "0.0012814138872286884"
      ]
     },
     "execution_count": 98,
     "metadata": {},
     "output_type": "execute_result"
    }
   ],
   "source": [
    "lr_reviews.score(X2_reviews, review_score)"
   ]
  },
  {
   "cell_type": "code",
   "execution_count": 101,
   "metadata": {},
   "outputs": [
    {
     "data": {
      "text/plain": [
       "0.0004057563667579922"
      ]
     },
     "execution_count": 101,
     "metadata": {},
     "output_type": "execute_result"
    }
   ],
   "source": [
    "lr_loves.score(X2_loves, review_score)"
   ]
  },
  {
   "cell_type": "code",
   "execution_count": 102,
   "metadata": {},
   "outputs": [
    {
     "data": {
      "text/plain": [
       "0.0047703989670440095"
      ]
     },
     "execution_count": 102,
     "metadata": {},
     "output_type": "execute_result"
    }
   ],
   "source": [
    "lr_review_love.score(X2_review_love, review_score)"
   ]
  },
  {
   "cell_type": "code",
   "execution_count": 89,
   "metadata": {},
   "outputs": [],
   "source": [
    "# Creating variables with test set\n",
    "n_of_reviews_test = test[\"n_of_reviews\"].as_matrix(columns=None)\n",
    "n_of_loves_test = test[\"n_of_loves\"].as_matrix(columns=None)\n",
    "reviews_to_loves_ratio_test = test[\"reviews_to_loves_ratio\"].as_matrix(columns=None)\n",
    "\n",
    "# Use scikit learn method to create polynomial features\n",
    "poly = PolynomialFeatures(degree=2)\n",
    "X2_reviews_test = poly.fit_transform(n_of_reviews_test.reshape(-1,1))\n",
    "X2_loves_test = poly.fit_transform(n_of_loves_test.reshape(-1,1))\n",
    "X2_review_love_test = poly.fit_transform(reviews_to_loves_ratio_test.reshape(-1,1))"
   ]
  },
  {
   "cell_type": "code",
   "execution_count": 100,
   "metadata": {},
   "outputs": [
    {
     "data": {
      "text/plain": [
       "Text(0, 0.5, 'Review Score')"
      ]
     },
     "execution_count": 100,
     "metadata": {},
     "output_type": "execute_result"
    },
    {
     "data": {
      "image/png": "[encoded data removed]",
      "text/plain": [
       "<Figure size 432x288 with 1 Axes>"
      ]
     },
     "metadata": {},
     "output_type": "display_data"
    }
   ],
   "source": [
    "# Plotting polynomial regression\n",
    "plt.scatter(n_of_reviews, review_score)\n",
    "plt.plot(n_of_reviews_test, lr_reviews.predict(X2_reviews_test), label = \"x^2\", color = \"lightpink\")\n",
    "plt.title(\"Number of reviews V. Review Score\")\n",
    "plt.legend()\n",
    "plt.xlabel(\"Number of reviews\")\n",
    "plt.ylabel(\"Review Score\")"
   ]
  },
  {
   "cell_type": "code",
   "execution_count": 91,
   "metadata": {},
   "outputs": [
    {
     "data": {
      "text/plain": [
       "Text(0, 0.5, 'Review Score')"
      ]
     },
     "execution_count": 91,
     "metadata": {},
     "output_type": "execute_result"
    },
    {
     "data": {
      "image/png": "[encoded data removed]",
      "text/plain": [
       "<Figure size 432x288 with 1 Axes>"
      ]
     },
     "metadata": {},
     "output_type": "display_data"
    }
   ],
   "source": [
    "# Plotting polynomial regression\n",
    "plt.scatter(n_of_loves, review_score)\n",
    "plt.plot(n_of_loves_test, lr_loves.predict(X2_loves_test), label = \"x^2\", color = \"lightpink\")\n",
    "plt.title(\"Number of Loves V. Review Score\")\n",
    "plt.legend()\n",
    "plt.xlabel(\"Number of Loves\")\n",
    "plt.ylabel(\"Review Score\")"
   ]
  },
  {
   "cell_type": "code",
   "execution_count": 92,
   "metadata": {},
   "outputs": [
    {
     "data": {
      "text/plain": [
       "Text(0, 0.5, 'Review Score')"
      ]
     },
     "execution_count": 92,
     "metadata": {},
     "output_type": "execute_result"
    },
    {
     "data": {
      "image/png": "[encoded data removed]",
      "text/plain": [
       "<Figure size 432x288 with 1 Axes>"
      ]
     },
     "metadata": {},
     "output_type": "display_data"
    }
   ],
   "source": [
    "# Plotting polynomial regression\n",
    "plt.scatter(reviews_to_loves_ratio, review_score)\n",
    "plt.plot(reviews_to_loves_ratio_test, lr_review_love.predict(X2_review_love_test), label = \"x^2\", color = \"lightpink\")\n",
    "plt.title(\"Reviews to Loves Ratio V. Review Score\")\n",
    "plt.legend()\n",
    "plt.xlabel(\"Reviews to Loves Ratio\")\n",
    "plt.ylabel(\"Review Score\")"
   ]
  },
  {
   "cell_type": "code",
   "execution_count": 93,
   "metadata": {},
   "outputs": [
    {
     "data": {
      "text/plain": [
       "<matplotlib.axes._subplots.AxesSubplot at 0x1c24eeddd8>"
      ]
     },
     "execution_count": 93,
     "metadata": {},
     "output_type": "execute_result"
    },
    {
     "data": {
      "image/png": "[encoded data removed]",
      "text/plain": [
       "<Figure size 432x288 with 1 Axes>"
      ]
     },
     "metadata": {},
     "output_type": "display_data"
    }
   ],
   "source": [
    "# Residuals, testing for homoscedasticity\n",
    "sns.residplot(lr_reviews.predict(X2_reviews), review_score)"
   ]
  },
  {
   "cell_type": "code",
   "execution_count": 103,
   "metadata": {},
   "outputs": [
    {
     "data": {
      "text/plain": [
       "<matplotlib.axes._subplots.AxesSubplot at 0x1c251f6be0>"
      ]
     },
     "execution_count": 103,
     "metadata": {},
     "output_type": "execute_result"
    },
    {
     "data": {
      "image/png": "[encoded data removed]",
      "text/plain": [
       "<Figure size 432x288 with 1 Axes>"
      ]
     },
     "metadata": {},
     "output_type": "display_data"
    }
   ],
   "source": [
    "# Residuals, testing for homoscedasticity\n",
    "sns.residplot(lr_loves.predict(X2_loves), review_score)"
   ]
  },
  {
   "cell_type": "code",
   "execution_count": 104,
   "metadata": {},
   "outputs": [
    {
     "data": {
      "text/plain": [
       "<matplotlib.axes._subplots.AxesSubplot at 0x1c2559abe0>"
      ]
     },
     "execution_count": 104,
     "metadata": {},
     "output_type": "execute_result"
    },
    {
     "data": {
      "image/png": "[encoded data removed]",
      "text/plain": [
       "<Figure size 432x288 with 1 Axes>"
      ]
     },
     "metadata": {},
     "output_type": "display_data"
    }
   ],
   "source": [
    "# Residuals, testing for homoscedasticity\n",
    "sns.residplot(lr_review_love.predict(X2_review_love), review_score)"
   ]
  },
  {
   "cell_type": "code",
   "execution_count": 110,
   "metadata": {},
   "outputs": [
    {
     "data": {
      "text/plain": [
       "LinearRegression(copy_X=True, fit_intercept=True, n_jobs=None,\n",
       "         normalize=False)"
      ]
     },
     "execution_count": 110,
     "metadata": {},
     "output_type": "execute_result"
    }
   ],
   "source": [
    "# Scikit Learn\n",
    "# Multiple Linear Regression\n",
    "# Create X and y\n",
    "feature_cols = ['clean_product', 'category_Anti-Aging', 'category_BB_&_CC_Cream',\n",
    "               'category_Bath_&_Shower', 'category_Beauty_Supplements',\n",
    "               'category_Blemish_&_Acne_Treatments', 'category_Blotting_Papers',\n",
    "               'category_Body_Lotions_&_Body_Oils',\n",
    "               'category_Cellulite_&_Stretch_Marks',\n",
    "               'category_Decollete_&_Neck_Creams', 'category_Exfoliators',\n",
    "               'category_Eye_Creams_&_Treatments', 'category_Eye_Masks',\n",
    "               'category_Face_Masks', 'category_Face_Oils', 'category_Face_Primer',\n",
    "               'category_Face_Serums', 'category_Face_Sunscreen',\n",
    "               'category_Face_Wash_&_Cleansers', 'category_Facial_Peels',\n",
    "               'category_Foundation', 'category_Hair_Oil', 'category_Highlighter',\n",
    "               'category_Holistic_Wellness', 'category_Mini_Size',\n",
    "               'category_Mists_&_Essences', 'category_Moisturizer_&_Treatments',\n",
    "               'category_Moisturizers', 'category_Night_Creams',\n",
    "               'category_Setting_Spray_&_Powder', 'category_Sheet_Masks',\n",
    "               'category_Skincare', 'category_Tinted_Moisturizer', 'category_Toners',\n",
    "               'category_Tools', 'category_Value_&_Gift_Sets']\n",
    "X = train[feature_cols]\n",
    "y = train.review_score\n",
    "\n",
    "# instantiate and fit\n",
    "lm2 = LinearRegression()\n",
    "lm2.fit(X, y)"
   ]
  },
  {
   "cell_type": "code",
   "execution_count": 111,
   "metadata": {},
   "outputs": [
    {
     "name": "stdout",
     "output_type": "stream",
     "text": [
      "Coefficients:  [-1.13706239e-02 -2.61224346e-01 -3.31234903e-01 -2.34093531e+00\n",
      " -1.19698480e-01 -3.49266795e-01 -2.58935312e-01  2.12600000e-01\n",
      " -4.07635312e-01 -5.02845264e-01  4.50764688e-01 -4.89010186e-01\n",
      " -5.11837410e-01 -4.07310740e-02  5.34026950e-02 -4.93640653e-01\n",
      " -7.36093695e-02 -2.01047062e-01 -2.86768053e-02  1.82287813e-01\n",
      " -6.40935312e-01  4.94835312e-01 -6.32135312e-01  6.78904300e-02\n",
      " -2.22044605e-16 -6.86423282e-02  2.65549303e-01 -1.50729714e-01\n",
      " -1.63253334e-02 -1.54700000e-01 -3.48835312e-01 -2.37335312e-01\n",
      " -9.11353119e-02  3.75293761e-03 -1.84923541e-01 -2.87246423e-01]\n"
     ]
    }
   ],
   "source": [
    "print(\"Coefficients: \", lm2.coef_)"
   ]
  },
  {
   "cell_type": "code",
   "execution_count": 112,
   "metadata": {},
   "outputs": [
    {
     "name": "stdout",
     "output_type": "stream",
     "text": [
      "Intercept:  4.3409353119313465\n"
     ]
    }
   ],
   "source": [
    "print(\"Intercept: \", lm2.intercept_)"
   ]
  },
  {
   "cell_type": "code",
   "execution_count": 113,
   "metadata": {},
   "outputs": [
    {
     "name": "stdout",
     "output_type": "stream",
     "text": [
      "R Squared:  0.17785015313080144\n"
     ]
    }
   ],
   "source": [
    "print(\"R Squared: \", lm2.score(X, y))"
   ]
  },
  {
   "cell_type": "code",
   "execution_count": 114,
   "metadata": {},
   "outputs": [
    {
     "name": "stdout",
     "output_type": "stream",
     "text": [
      "Coefficients:  [3.25794847e-04 5.59117683e-05 7.50362050e-07 5.56605092e-02\n",
      " 3.15327155e-03 1.52490881e-03]\n",
      "Intercept:  4.07005827913526\n",
      "R Squared:  0.08096416219877756\n"
     ]
    }
   ],
   "source": [
    "#Scikit Learn\n",
    "# Multiple Regression\n",
    "# Create X and y\n",
    "feature_cols_2 = ['price', 'n_of_reviews', 'n_of_loves', 'clean_product',\n",
    "                  'reviews_to_loves_ratio', 'return_on_reviews']\n",
    "X_2 = train[feature_cols_2]\n",
    "y_2 = train.review_score\n",
    "\n",
    "# instantiate and fit\n",
    "lm3 = LinearRegression()\n",
    "lm3.fit(X_2, y_2)\n",
    "\n",
    "print(\"Coefficients: \", lm3.coef_)\n",
    "print(\"Intercept: \", lm3.intercept_)\n",
    "print(\"R Squared: \", lm3.score(X_2, y_2))"
   ]
  },
  {
   "cell_type": "code",
   "execution_count": 118,
   "metadata": {},
   "outputs": [
    {
     "name": "stdout",
     "output_type": "stream",
     "text": [
      "Coefficients:  [ 7.90721869e-05  5.53851475e-05  3.64119175e-07  2.54892624e-03\n",
      "  2.26678241e-03  1.46256969e-03  2.54892624e-03 -3.04093213e-01\n",
      " -3.63572734e-01 -2.46360030e+00 -2.11541430e-01 -3.63215833e-01\n",
      " -2.45605082e-01  1.77092677e-01 -4.01010123e-01 -5.36690195e-01\n",
      "  4.45808668e-01 -5.13834499e-01 -5.24988975e-01 -8.66791889e-02\n",
      "  2.60038372e-02 -5.30077465e-01 -1.37143037e-01 -2.18673523e-01\n",
      " -4.22561223e-02  1.42425069e-01 -6.40584901e-01  4.90880582e-01\n",
      " -6.34875213e-01 -1.29494952e-01  1.49899537e-12 -1.11164289e-01\n",
      "  2.18022689e-01 -1.91525814e-01 -6.21484959e-02 -1.83484845e-01\n",
      " -3.57118448e-01 -2.84248207e-01 -2.00874620e-01 -6.62886732e-02\n",
      " -2.29881200e-01 -3.94972226e-01]\n",
      "Intercept:  4.306516691305085\n",
      "R Squared:  0.24445618431860536\n"
     ]
    }
   ],
   "source": [
    "# Scikit Learn\n",
    "# Multiple Linear Regression\n",
    "# Create X and y\n",
    "feature_cols_3 = ['price', 'n_of_reviews', 'n_of_loves', 'clean_product',\n",
    "                  'reviews_to_loves_ratio', 'return_on_reviews',\n",
    "                'clean_product', 'category_Anti-Aging', 'category_BB_&_CC_Cream',\n",
    "               'category_Bath_&_Shower', 'category_Beauty_Supplements',\n",
    "               'category_Blemish_&_Acne_Treatments', 'category_Blotting_Papers',\n",
    "               'category_Body_Lotions_&_Body_Oils',\n",
    "               'category_Cellulite_&_Stretch_Marks',\n",
    "               'category_Decollete_&_Neck_Creams', 'category_Exfoliators',\n",
    "               'category_Eye_Creams_&_Treatments', 'category_Eye_Masks',\n",
    "               'category_Face_Masks', 'category_Face_Oils', 'category_Face_Primer',\n",
    "               'category_Face_Serums', 'category_Face_Sunscreen',\n",
    "               'category_Face_Wash_&_Cleansers', 'category_Facial_Peels',\n",
    "               'category_Foundation', 'category_Hair_Oil', 'category_Highlighter',\n",
    "               'category_Holistic_Wellness', 'category_Mini_Size',\n",
    "               'category_Mists_&_Essences', 'category_Moisturizer_&_Treatments',\n",
    "               'category_Moisturizers', 'category_Night_Creams',\n",
    "               'category_Setting_Spray_&_Powder', 'category_Sheet_Masks',\n",
    "               'category_Skincare', 'category_Tinted_Moisturizer', 'category_Toners',\n",
    "               'category_Tools', 'category_Value_&_Gift_Sets']\n",
    "X_3 = train[feature_cols_3]\n",
    "y_3 = train.review_score\n",
    "\n",
    "# instantiate and fit\n",
    "lm4 = LinearRegression()\n",
    "lm4.fit(X_3, y_3)\n",
    "\n",
    "print(\"Coefficients: \", lm4.coef_)\n",
    "print(\"Intercept: \", lm4.intercept_)\n",
    "print(\"R Squared: \", lm4.score(X_3, y_3))"
   ]
  },
  {
   "cell_type": "code",
   "execution_count": 120,
   "metadata": {},
   "outputs": [],
   "source": [
    "# Statsmodels\n",
    "# Multiple Regression\n",
    "y_1 = train[\"review_score\"]\n",
    "x_1 = train[['price', 'n_of_reviews', 'n_of_loves', 'clean_product',\n",
    "                  'reviews_to_loves_ratio', 'return_on_reviews']]\n",
    "f_1 = \"review_score~price+n_of_reviews+n_of_loves+clean_product+reviews_to_loves_ratio+return_on_reviews\"\n",
    "\n",
    "model_1 = smf.ols(formula = f_1, data = train).fit()"
   ]
  },
  {
   "cell_type": "code",
   "execution_count": 121,
   "metadata": {},
   "outputs": [
    {
     "data": {
      "text/html": [
       "<table class=\"simpletable\">\n",
       "<caption>OLS Regression Results</caption>\n",
       "<tr>\n",
       "  <th>Dep. Variable:</th>      <td>review_score</td>   <th>  R-squared:         </th> <td>   0.081</td>\n",
       "</tr>\n",
       "<tr>\n",
       "  <th>Model:</th>                   <td>OLS</td>       <th>  Adj. R-squared:    </th> <td>   0.077</td>\n",
       "</tr>\n",
       "<tr>\n",
       "  <th>Method:</th>             <td>Least Squares</td>  <th>  F-statistic:       </th> <td>   19.73</td>\n",
       "</tr>\n",
       "<tr>\n",
       "  <th>Date:</th>             <td>Thu, 18 Apr 2019</td> <th>  Prob (F-statistic):</th> <td>3.52e-22</td>\n",
       "</tr>\n",
       "<tr>\n",
       "  <th>Time:</th>                 <td>17:12:32</td>     <th>  Log-Likelihood:    </th> <td> -774.71</td>\n",
       "</tr>\n",
       "<tr>\n",
       "  <th>No. Observations:</th>      <td>  1351</td>      <th>  AIC:               </th> <td>   1563.</td>\n",
       "</tr>\n",
       "<tr>\n",
       "  <th>Df Residuals:</th>          <td>  1344</td>      <th>  BIC:               </th> <td>   1600.</td>\n",
       "</tr>\n",
       "<tr>\n",
       "  <th>Df Model:</th>              <td>     6</td>      <th>                     </th>     <td> </td>   \n",
       "</tr>\n",
       "<tr>\n",
       "  <th>Covariance Type:</th>      <td>nonrobust</td>    <th>                     </th>     <td> </td>   \n",
       "</tr>\n",
       "</table>\n",
       "<table class=\"simpletable\">\n",
       "<tr>\n",
       "             <td></td>               <th>coef</th>     <th>std err</th>      <th>t</th>      <th>P>|t|</th>  <th>[0.025</th>    <th>0.975]</th>  \n",
       "</tr>\n",
       "<tr>\n",
       "  <th>Intercept</th>              <td>    4.0701</td> <td>    0.023</td> <td>  175.421</td> <td> 0.000</td> <td>    4.025</td> <td>    4.116</td>\n",
       "</tr>\n",
       "<tr>\n",
       "  <th>price</th>                  <td>    0.0003</td> <td>    0.000</td> <td>    1.297</td> <td> 0.195</td> <td>   -0.000</td> <td>    0.001</td>\n",
       "</tr>\n",
       "<tr>\n",
       "  <th>n_of_reviews</th>           <td> 5.591e-05</td> <td>  3.7e-05</td> <td>    1.511</td> <td> 0.131</td> <td>-1.67e-05</td> <td>    0.000</td>\n",
       "</tr>\n",
       "<tr>\n",
       "  <th>n_of_loves</th>             <td> 7.504e-07</td> <td> 7.12e-07</td> <td>    1.054</td> <td> 0.292</td> <td>-6.46e-07</td> <td> 2.15e-06</td>\n",
       "</tr>\n",
       "<tr>\n",
       "  <th>clean_product</th>          <td>    0.0557</td> <td>    0.031</td> <td>    1.816</td> <td> 0.070</td> <td>   -0.004</td> <td>    0.116</td>\n",
       "</tr>\n",
       "<tr>\n",
       "  <th>reviews_to_loves_ratio</th> <td>    0.0032</td> <td>    0.001</td> <td>    2.581</td> <td> 0.010</td> <td>    0.001</td> <td>    0.006</td>\n",
       "</tr>\n",
       "<tr>\n",
       "  <th>return_on_reviews</th>      <td>    0.0015</td> <td>    0.000</td> <td>   10.336</td> <td> 0.000</td> <td>    0.001</td> <td>    0.002</td>\n",
       "</tr>\n",
       "</table>\n",
       "<table class=\"simpletable\">\n",
       "<tr>\n",
       "  <th>Omnibus:</th>       <td>370.541</td> <th>  Durbin-Watson:     </th> <td>   2.027</td>\n",
       "</tr>\n",
       "<tr>\n",
       "  <th>Prob(Omnibus):</th> <td> 0.000</td>  <th>  Jarque-Bera (JB):  </th> <td>1525.430</td>\n",
       "</tr>\n",
       "<tr>\n",
       "  <th>Skew:</th>          <td>-1.257</td>  <th>  Prob(JB):          </th> <td>    0.00</td>\n",
       "</tr>\n",
       "<tr>\n",
       "  <th>Kurtosis:</th>      <td> 7.559</td>  <th>  Cond. No.          </th> <td>7.33e+04</td>\n",
       "</tr>\n",
       "</table><br/><br/>Warnings:<br/>[1] Standard Errors assume that the covariance matrix of the errors is correctly specified.<br/>[2] The condition number is large, 7.33e+04. This might indicate that there are<br/>strong multicollinearity or other numerical problems."
      ],
      "text/plain": [
       "<class 'statsmodels.iolib.summary.Summary'>\n",
       "\"\"\"\n",
       "                            OLS Regression Results                            \n",
       "==============================================================================\n",
       "Dep. Variable:           review_score   R-squared:                       0.081\n",
       "Model:                            OLS   Adj. R-squared:                  0.077\n",
       "Method:                 Least Squares   F-statistic:                     19.73\n",
       "Date:                Thu, 18 Apr 2019   Prob (F-statistic):           3.52e-22\n",
       "Time:                        17:12:32   Log-Likelihood:                -774.71\n",
       "No. Observations:                1351   AIC:                             1563.\n",
       "Df Residuals:                    1344   BIC:                             1600.\n",
       "Df Model:                           6                                         \n",
       "Covariance Type:            nonrobust                                         \n",
       "==========================================================================================\n",
       "                             coef    std err          t      P>|t|      [0.025      0.975]\n",
       "------------------------------------------------------------------------------------------\n",
       "Intercept                  4.0701      0.023    175.421      0.000       4.025       4.116\n",
       "price                      0.0003      0.000      1.297      0.195      -0.000       0.001\n",
       "n_of_reviews            5.591e-05    3.7e-05      1.511      0.131   -1.67e-05       0.000\n",
       "n_of_loves              7.504e-07   7.12e-07      1.054      0.292   -6.46e-07    2.15e-06\n",
       "clean_product              0.0557      0.031      1.816      0.070      -0.004       0.116\n",
       "reviews_to_loves_ratio     0.0032      0.001      2.581      0.010       0.001       0.006\n",
       "return_on_reviews          0.0015      0.000     10.336      0.000       0.001       0.002\n",
       "==============================================================================\n",
       "Omnibus:                      370.541   Durbin-Watson:                   2.027\n",
       "Prob(Omnibus):                  0.000   Jarque-Bera (JB):             1525.430\n",
       "Skew:                          -1.257   Prob(JB):                         0.00\n",
       "Kurtosis:                       7.559   Cond. No.                     7.33e+04\n",
       "==============================================================================\n",
       "\n",
       "Warnings:\n",
       "[1] Standard Errors assume that the covariance matrix of the errors is correctly specified.\n",
       "[2] The condition number is large, 7.33e+04. This might indicate that there are\n",
       "strong multicollinearity or other numerical problems.\n",
       "\"\"\""
      ]
     },
     "execution_count": 121,
     "metadata": {},
     "output_type": "execute_result"
    }
   ],
   "source": [
    "model_1.summary()"
   ]
  },
  {
   "cell_type": "code",
   "execution_count": null,
   "metadata": {},
   "outputs": [],
   "source": []
  }
 ],
 "metadata": {
  "kernelspec": {
   "display_name": "Python 3",
   "language": "python",
   "name": "python3"
  },
  "language_info": {
   "codemirror_mode": {
    "name": "ipython",
    "version": 3
   },
   "file_extension": ".py",
   "mimetype": "text/x-python",
   "name": "python",
   "nbconvert_exporter": "python",
   "pygments_lexer": "ipython3",
   "version": "3.7.1"
  }
 },
 "nbformat": 4,
 "nbformat_minor": 2
}
