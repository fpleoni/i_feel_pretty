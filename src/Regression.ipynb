{
 "cells": [
  {
   "cell_type": "code",
   "execution_count": 313,
   "metadata": {},
   "outputs": [],
   "source": [
    "import ast\n",
    "from bs4 import BeautifulSoup\n",
    "import csv\n",
    "from itertools import combinations\n",
    "import json\n",
    "import pandas as pd\n",
    "import matplotlib.pyplot as plt\n",
    "import math\n",
    "import numpy as np\n",
    "import pylab\n",
    "import re\n",
    "import requests\n",
    "from sklearn.preprocessing import PolynomialFeatures\n",
    "from sklearn.linear_model import LinearRegression\n",
    "from sklearn.model_selection import train_test_split\n",
    "from sklearn.model_selection import KFold\n",
    "from sklearn.model_selection import cross_val_score\n",
    "from sklearn.metrics import mean_squared_error\n",
    "from scipy import stats\n",
    "import seaborn as sns\n",
    "import statsmodels\n",
    "import statsmodels.api as sm\n",
    "import statsmodels.formula.api as smf\n",
    "import sqlite3\n",
    "from sqlite3 import Error\n",
    "import time\n",
    "import warnings\n",
    "warnings.filterwarnings(\"ignore\")\n",
    "plt.style.use(\"fivethirtyeight\")\n",
    "sns.set_style(\"darkgrid\")"
   ]
  },
  {
   "cell_type": "code",
   "execution_count": 314,
   "metadata": {},
   "outputs": [],
   "source": [
    "# Loading skincare_df data set\n",
    "skincare_df = pd.read_csv(\"/Users/florencialeoni/code/i_feel_pretty/data/skincare_df.csv\")"
   ]
  },
  {
   "cell_type": "code",
   "execution_count": 315,
   "metadata": {},
   "outputs": [
    {
     "data": {
      "text/html": [
       "<div>\n",
       "<style scoped>\n",
       "    .dataframe tbody tr th:only-of-type {\n",
       "        vertical-align: middle;\n",
       "    }\n",
       "\n",
       "    .dataframe tbody tr th {\n",
       "        vertical-align: top;\n",
       "    }\n",
       "\n",
       "    .dataframe thead th {\n",
       "        text-align: right;\n",
       "    }\n",
       "</style>\n",
       "<table border=\"1\" class=\"dataframe\">\n",
       "  <thead>\n",
       "    <tr style=\"text-align: right;\">\n",
       "      <th></th>\n",
       "      <th>Unnamed: 0</th>\n",
       "      <th>brand</th>\n",
       "      <th>name</th>\n",
       "      <th>price</th>\n",
       "      <th>n_of_reviews</th>\n",
       "      <th>n_of_loves</th>\n",
       "      <th>review_score</th>\n",
       "      <th>size</th>\n",
       "      <th>clean_product</th>\n",
       "      <th>category_Anti-Aging</th>\n",
       "      <th>...</th>\n",
       "      <th>category_Setting_Spray_&amp;_Powder</th>\n",
       "      <th>category_Sheet_Masks</th>\n",
       "      <th>category_Skincare</th>\n",
       "      <th>category_Tinted_Moisturizer</th>\n",
       "      <th>category_Toners</th>\n",
       "      <th>category_Tools</th>\n",
       "      <th>category_Value_&amp;_Gift_Sets</th>\n",
       "      <th>reviews_to_loves_ratio</th>\n",
       "      <th>return_on_reviews</th>\n",
       "      <th>price_per_ounce</th>\n",
       "    </tr>\n",
       "  </thead>\n",
       "  <tbody>\n",
       "    <tr>\n",
       "      <th>0</th>\n",
       "      <td>0</td>\n",
       "      <td>Drunk Elephant</td>\n",
       "      <td>Protini Polypeptide Moisturizer</td>\n",
       "      <td>68.0</td>\n",
       "      <td>1000</td>\n",
       "      <td>136008</td>\n",
       "      <td>4.2097</td>\n",
       "      <td>1.69</td>\n",
       "      <td>1</td>\n",
       "      <td>0</td>\n",
       "      <td>...</td>\n",
       "      <td>0</td>\n",
       "      <td>0</td>\n",
       "      <td>0</td>\n",
       "      <td>0</td>\n",
       "      <td>0</td>\n",
       "      <td>0</td>\n",
       "      <td>0</td>\n",
       "      <td>0.74</td>\n",
       "      <td>0.42</td>\n",
       "      <td>40.24</td>\n",
       "    </tr>\n",
       "    <tr>\n",
       "      <th>1</th>\n",
       "      <td>1</td>\n",
       "      <td>La Mer</td>\n",
       "      <td>Crreme de la Mer</td>\n",
       "      <td>175.0</td>\n",
       "      <td>493</td>\n",
       "      <td>61648</td>\n",
       "      <td>4.0974</td>\n",
       "      <td>1.00</td>\n",
       "      <td>0</td>\n",
       "      <td>0</td>\n",
       "      <td>...</td>\n",
       "      <td>0</td>\n",
       "      <td>0</td>\n",
       "      <td>0</td>\n",
       "      <td>0</td>\n",
       "      <td>0</td>\n",
       "      <td>0</td>\n",
       "      <td>0</td>\n",
       "      <td>0.80</td>\n",
       "      <td>0.83</td>\n",
       "      <td>175.00</td>\n",
       "    </tr>\n",
       "    <tr>\n",
       "      <th>2</th>\n",
       "      <td>2</td>\n",
       "      <td>IT Cosmetics</td>\n",
       "      <td>CC+ Cream with SPF 50+</td>\n",
       "      <td>39.0</td>\n",
       "      <td>2000</td>\n",
       "      <td>188389</td>\n",
       "      <td>4.0403</td>\n",
       "      <td>1.08</td>\n",
       "      <td>0</td>\n",
       "      <td>0</td>\n",
       "      <td>...</td>\n",
       "      <td>0</td>\n",
       "      <td>0</td>\n",
       "      <td>0</td>\n",
       "      <td>0</td>\n",
       "      <td>0</td>\n",
       "      <td>0</td>\n",
       "      <td>0</td>\n",
       "      <td>1.06</td>\n",
       "      <td>0.20</td>\n",
       "      <td>36.11</td>\n",
       "    </tr>\n",
       "    <tr>\n",
       "      <th>3</th>\n",
       "      <td>3</td>\n",
       "      <td>Tatcha</td>\n",
       "      <td>The Water Cream</td>\n",
       "      <td>68.0</td>\n",
       "      <td>1000</td>\n",
       "      <td>149323</td>\n",
       "      <td>4.2447</td>\n",
       "      <td>1.70</td>\n",
       "      <td>1</td>\n",
       "      <td>0</td>\n",
       "      <td>...</td>\n",
       "      <td>0</td>\n",
       "      <td>0</td>\n",
       "      <td>0</td>\n",
       "      <td>0</td>\n",
       "      <td>0</td>\n",
       "      <td>0</td>\n",
       "      <td>0</td>\n",
       "      <td>0.67</td>\n",
       "      <td>0.42</td>\n",
       "      <td>40.00</td>\n",
       "    </tr>\n",
       "    <tr>\n",
       "      <th>4</th>\n",
       "      <td>4</td>\n",
       "      <td>SK-II</td>\n",
       "      <td>Facial Treatment Essence</td>\n",
       "      <td>179.0</td>\n",
       "      <td>788</td>\n",
       "      <td>68880</td>\n",
       "      <td>4.0622</td>\n",
       "      <td>NaN</td>\n",
       "      <td>0</td>\n",
       "      <td>0</td>\n",
       "      <td>...</td>\n",
       "      <td>0</td>\n",
       "      <td>0</td>\n",
       "      <td>0</td>\n",
       "      <td>0</td>\n",
       "      <td>0</td>\n",
       "      <td>0</td>\n",
       "      <td>0</td>\n",
       "      <td>1.14</td>\n",
       "      <td>0.52</td>\n",
       "      <td>NaN</td>\n",
       "    </tr>\n",
       "  </tbody>\n",
       "</table>\n",
       "<p>5 rows × 47 columns</p>\n",
       "</div>"
      ],
      "text/plain": [
       "   Unnamed: 0           brand                             name  price  \\\n",
       "0           0  Drunk Elephant  Protini Polypeptide Moisturizer   68.0   \n",
       "1           1          La Mer                 Crreme de la Mer  175.0   \n",
       "2           2    IT Cosmetics           CC+ Cream with SPF 50+   39.0   \n",
       "3           3          Tatcha                  The Water Cream   68.0   \n",
       "4           4           SK-II         Facial Treatment Essence  179.0   \n",
       "\n",
       "   n_of_reviews  n_of_loves  review_score  size  clean_product  \\\n",
       "0          1000      136008        4.2097  1.69              1   \n",
       "1           493       61648        4.0974  1.00              0   \n",
       "2          2000      188389        4.0403  1.08              0   \n",
       "3          1000      149323        4.2447  1.70              1   \n",
       "4           788       68880        4.0622   NaN              0   \n",
       "\n",
       "   category_Anti-Aging       ...         category_Setting_Spray_&_Powder  \\\n",
       "0                    0       ...                                       0   \n",
       "1                    0       ...                                       0   \n",
       "2                    0       ...                                       0   \n",
       "3                    0       ...                                       0   \n",
       "4                    0       ...                                       0   \n",
       "\n",
       "   category_Sheet_Masks  category_Skincare  category_Tinted_Moisturizer  \\\n",
       "0                     0                  0                            0   \n",
       "1                     0                  0                            0   \n",
       "2                     0                  0                            0   \n",
       "3                     0                  0                            0   \n",
       "4                     0                  0                            0   \n",
       "\n",
       "   category_Toners  category_Tools  category_Value_&_Gift_Sets  \\\n",
       "0                0               0                           0   \n",
       "1                0               0                           0   \n",
       "2                0               0                           0   \n",
       "3                0               0                           0   \n",
       "4                0               0                           0   \n",
       "\n",
       "   reviews_to_loves_ratio  return_on_reviews  price_per_ounce  \n",
       "0                    0.74               0.42            40.24  \n",
       "1                    0.80               0.83           175.00  \n",
       "2                    1.06               0.20            36.11  \n",
       "3                    0.67               0.42            40.00  \n",
       "4                    1.14               0.52              NaN  \n",
       "\n",
       "[5 rows x 47 columns]"
      ]
     },
     "execution_count": 315,
     "metadata": {},
     "output_type": "execute_result"
    }
   ],
   "source": [
    "skincare_df.head()"
   ]
  },
  {
   "cell_type": "code",
   "execution_count": 316,
   "metadata": {},
   "outputs": [],
   "source": [
    "# Loading pretty_numbers data set\n",
    "pretty_numbers = pd.read_csv(\"/Users/florencialeoni/code/i_feel_pretty/data/pretty_numbers.csv\")"
   ]
  },
  {
   "cell_type": "code",
   "execution_count": 317,
   "metadata": {},
   "outputs": [
    {
     "data": {
      "text/html": [
       "<div>\n",
       "<style scoped>\n",
       "    .dataframe tbody tr th:only-of-type {\n",
       "        vertical-align: middle;\n",
       "    }\n",
       "\n",
       "    .dataframe tbody tr th {\n",
       "        vertical-align: top;\n",
       "    }\n",
       "\n",
       "    .dataframe thead th {\n",
       "        text-align: right;\n",
       "    }\n",
       "</style>\n",
       "<table border=\"1\" class=\"dataframe\">\n",
       "  <thead>\n",
       "    <tr style=\"text-align: right;\">\n",
       "      <th></th>\n",
       "      <th>Unnamed: 0</th>\n",
       "      <th>price</th>\n",
       "      <th>n_of_reviews</th>\n",
       "      <th>n_of_loves</th>\n",
       "      <th>review_score</th>\n",
       "      <th>size</th>\n",
       "      <th>clean_product</th>\n",
       "      <th>category_Anti-Aging</th>\n",
       "      <th>category_BB_&amp;_CC_Cream</th>\n",
       "      <th>category_Bath_&amp;_Shower</th>\n",
       "      <th>...</th>\n",
       "      <th>category_Skincare</th>\n",
       "      <th>category_Tinted_Moisturizer</th>\n",
       "      <th>category_Toners</th>\n",
       "      <th>category_Tools</th>\n",
       "      <th>category_Value_&amp;_Gift_Sets</th>\n",
       "      <th>reviews_to_loves_ratio</th>\n",
       "      <th>return_on_reviews</th>\n",
       "      <th>price_per_ounce</th>\n",
       "      <th>reviews_to_loves_log</th>\n",
       "      <th>return_on_reviews_log</th>\n",
       "    </tr>\n",
       "  </thead>\n",
       "  <tbody>\n",
       "    <tr>\n",
       "      <th>0</th>\n",
       "      <td>0</td>\n",
       "      <td>68.0</td>\n",
       "      <td>1000</td>\n",
       "      <td>136008</td>\n",
       "      <td>4.2097</td>\n",
       "      <td>1.69</td>\n",
       "      <td>1</td>\n",
       "      <td>0</td>\n",
       "      <td>0</td>\n",
       "      <td>0</td>\n",
       "      <td>...</td>\n",
       "      <td>0</td>\n",
       "      <td>0</td>\n",
       "      <td>0</td>\n",
       "      <td>0</td>\n",
       "      <td>0</td>\n",
       "      <td>0.74</td>\n",
       "      <td>0.42</td>\n",
       "      <td>40.24</td>\n",
       "      <td>-0.30</td>\n",
       "      <td>-0.87</td>\n",
       "    </tr>\n",
       "    <tr>\n",
       "      <th>1</th>\n",
       "      <td>1</td>\n",
       "      <td>175.0</td>\n",
       "      <td>493</td>\n",
       "      <td>61648</td>\n",
       "      <td>4.0974</td>\n",
       "      <td>1.00</td>\n",
       "      <td>0</td>\n",
       "      <td>0</td>\n",
       "      <td>0</td>\n",
       "      <td>0</td>\n",
       "      <td>...</td>\n",
       "      <td>0</td>\n",
       "      <td>0</td>\n",
       "      <td>0</td>\n",
       "      <td>0</td>\n",
       "      <td>0</td>\n",
       "      <td>0.80</td>\n",
       "      <td>0.83</td>\n",
       "      <td>175.00</td>\n",
       "      <td>-0.22</td>\n",
       "      <td>-0.19</td>\n",
       "    </tr>\n",
       "    <tr>\n",
       "      <th>2</th>\n",
       "      <td>2</td>\n",
       "      <td>39.0</td>\n",
       "      <td>2000</td>\n",
       "      <td>188389</td>\n",
       "      <td>4.0403</td>\n",
       "      <td>1.08</td>\n",
       "      <td>0</td>\n",
       "      <td>0</td>\n",
       "      <td>1</td>\n",
       "      <td>0</td>\n",
       "      <td>...</td>\n",
       "      <td>0</td>\n",
       "      <td>0</td>\n",
       "      <td>0</td>\n",
       "      <td>0</td>\n",
       "      <td>0</td>\n",
       "      <td>1.06</td>\n",
       "      <td>0.20</td>\n",
       "      <td>36.11</td>\n",
       "      <td>0.06</td>\n",
       "      <td>-1.61</td>\n",
       "    </tr>\n",
       "    <tr>\n",
       "      <th>3</th>\n",
       "      <td>3</td>\n",
       "      <td>68.0</td>\n",
       "      <td>1000</td>\n",
       "      <td>149323</td>\n",
       "      <td>4.2447</td>\n",
       "      <td>1.70</td>\n",
       "      <td>1</td>\n",
       "      <td>0</td>\n",
       "      <td>0</td>\n",
       "      <td>0</td>\n",
       "      <td>...</td>\n",
       "      <td>0</td>\n",
       "      <td>0</td>\n",
       "      <td>0</td>\n",
       "      <td>0</td>\n",
       "      <td>0</td>\n",
       "      <td>0.67</td>\n",
       "      <td>0.42</td>\n",
       "      <td>40.00</td>\n",
       "      <td>-0.40</td>\n",
       "      <td>-0.87</td>\n",
       "    </tr>\n",
       "    <tr>\n",
       "      <th>4</th>\n",
       "      <td>4</td>\n",
       "      <td>179.0</td>\n",
       "      <td>788</td>\n",
       "      <td>68880</td>\n",
       "      <td>4.0622</td>\n",
       "      <td>NaN</td>\n",
       "      <td>0</td>\n",
       "      <td>0</td>\n",
       "      <td>0</td>\n",
       "      <td>0</td>\n",
       "      <td>...</td>\n",
       "      <td>0</td>\n",
       "      <td>0</td>\n",
       "      <td>0</td>\n",
       "      <td>0</td>\n",
       "      <td>0</td>\n",
       "      <td>1.14</td>\n",
       "      <td>0.52</td>\n",
       "      <td>NaN</td>\n",
       "      <td>0.13</td>\n",
       "      <td>-0.65</td>\n",
       "    </tr>\n",
       "  </tbody>\n",
       "</table>\n",
       "<p>5 rows × 47 columns</p>\n",
       "</div>"
      ],
      "text/plain": [
       "   Unnamed: 0  price  n_of_reviews  n_of_loves  review_score  size  \\\n",
       "0           0   68.0          1000      136008        4.2097  1.69   \n",
       "1           1  175.0           493       61648        4.0974  1.00   \n",
       "2           2   39.0          2000      188389        4.0403  1.08   \n",
       "3           3   68.0          1000      149323        4.2447  1.70   \n",
       "4           4  179.0           788       68880        4.0622   NaN   \n",
       "\n",
       "   clean_product  category_Anti-Aging  category_BB_&_CC_Cream  \\\n",
       "0              1                    0                       0   \n",
       "1              0                    0                       0   \n",
       "2              0                    0                       1   \n",
       "3              1                    0                       0   \n",
       "4              0                    0                       0   \n",
       "\n",
       "   category_Bath_&_Shower          ...            category_Skincare  \\\n",
       "0                       0          ...                            0   \n",
       "1                       0          ...                            0   \n",
       "2                       0          ...                            0   \n",
       "3                       0          ...                            0   \n",
       "4                       0          ...                            0   \n",
       "\n",
       "   category_Tinted_Moisturizer  category_Toners  category_Tools  \\\n",
       "0                            0                0               0   \n",
       "1                            0                0               0   \n",
       "2                            0                0               0   \n",
       "3                            0                0               0   \n",
       "4                            0                0               0   \n",
       "\n",
       "   category_Value_&_Gift_Sets  reviews_to_loves_ratio  return_on_reviews  \\\n",
       "0                           0                    0.74               0.42   \n",
       "1                           0                    0.80               0.83   \n",
       "2                           0                    1.06               0.20   \n",
       "3                           0                    0.67               0.42   \n",
       "4                           0                    1.14               0.52   \n",
       "\n",
       "   price_per_ounce  reviews_to_loves_log  return_on_reviews_log  \n",
       "0            40.24                 -0.30                  -0.87  \n",
       "1           175.00                 -0.22                  -0.19  \n",
       "2            36.11                  0.06                  -1.61  \n",
       "3            40.00                 -0.40                  -0.87  \n",
       "4              NaN                  0.13                  -0.65  \n",
       "\n",
       "[5 rows x 47 columns]"
      ]
     },
     "execution_count": 317,
     "metadata": {},
     "output_type": "execute_result"
    }
   ],
   "source": [
    "pretty_numbers.head()"
   ]
  },
  {
   "cell_type": "code",
   "execution_count": 318,
   "metadata": {},
   "outputs": [
    {
     "data": {
      "text/plain": [
       "Index(['Unnamed: 0', 'price', 'n_of_reviews', 'n_of_loves', 'review_score',\n",
       "       'size', 'clean_product', 'category_Anti-Aging',\n",
       "       'category_BB_&_CC_Cream', 'category_Bath_&_Shower',\n",
       "       'category_Beauty_Supplements', 'category_Blemish_&_Acne_Treatments',\n",
       "       'category_Blotting_Papers', 'category_Body_Lotions_&_Body_Oils',\n",
       "       'category_Cellulite_&_Stretch_Marks',\n",
       "       'category_Decollete_&_Neck_Creams', 'category_Exfoliators',\n",
       "       'category_Eye_Creams_&_Treatments', 'category_Eye_Masks',\n",
       "       'category_Face_Masks', 'category_Face_Oils', 'category_Face_Primer',\n",
       "       'category_Face_Serums', 'category_Face_Sunscreen',\n",
       "       'category_Face_Wash_&_Cleansers', 'category_Facial_Peels',\n",
       "       'category_Foundation', 'category_Hair_Oil', 'category_Highlighter',\n",
       "       'category_Holistic_Wellness', 'category_Mini_Size',\n",
       "       'category_Mists_&_Essences', 'category_Moisturizer_&_Treatments',\n",
       "       'category_Moisturizers', 'category_Night_Creams',\n",
       "       'category_Setting_Spray_&_Powder', 'category_Sheet_Masks',\n",
       "       'category_Skincare', 'category_Tinted_Moisturizer', 'category_Toners',\n",
       "       'category_Tools', 'category_Value_&_Gift_Sets',\n",
       "       'reviews_to_loves_ratio', 'return_on_reviews', 'price_per_ounce',\n",
       "       'reviews_to_loves_log', 'return_on_reviews_log'],\n",
       "      dtype='object')"
      ]
     },
     "execution_count": 318,
     "metadata": {},
     "output_type": "execute_result"
    }
   ],
   "source": [
    "pretty_numbers.columns"
   ]
  },
  {
   "cell_type": "code",
   "execution_count": 319,
   "metadata": {},
   "outputs": [],
   "source": [
    "# Loading pretty_regression data set\n",
    "pretty_regression = pd.read_csv(\"/Users/florencialeoni/code/i_feel_pretty/data/pretty_regression.csv\")"
   ]
  },
  {
   "cell_type": "code",
   "execution_count": 320,
   "metadata": {},
   "outputs": [
    {
     "data": {
      "text/html": [
       "<div>\n",
       "<style scoped>\n",
       "    .dataframe tbody tr th:only-of-type {\n",
       "        vertical-align: middle;\n",
       "    }\n",
       "\n",
       "    .dataframe tbody tr th {\n",
       "        vertical-align: top;\n",
       "    }\n",
       "\n",
       "    .dataframe thead th {\n",
       "        text-align: right;\n",
       "    }\n",
       "</style>\n",
       "<table border=\"1\" class=\"dataframe\">\n",
       "  <thead>\n",
       "    <tr style=\"text-align: right;\">\n",
       "      <th></th>\n",
       "      <th>Unnamed: 0</th>\n",
       "      <th>price</th>\n",
       "      <th>n_of_reviews</th>\n",
       "      <th>n_of_loves</th>\n",
       "      <th>review_score</th>\n",
       "      <th>size</th>\n",
       "      <th>clean_product</th>\n",
       "      <th>return_on_reviews</th>\n",
       "      <th>reviews_to_loves_ratio</th>\n",
       "      <th>price_per_ounce</th>\n",
       "    </tr>\n",
       "  </thead>\n",
       "  <tbody>\n",
       "    <tr>\n",
       "      <th>0</th>\n",
       "      <td>0</td>\n",
       "      <td>68.0</td>\n",
       "      <td>1000</td>\n",
       "      <td>136008</td>\n",
       "      <td>4.2097</td>\n",
       "      <td>1.69</td>\n",
       "      <td>1</td>\n",
       "      <td>0.42</td>\n",
       "      <td>0.74</td>\n",
       "      <td>40.24</td>\n",
       "    </tr>\n",
       "    <tr>\n",
       "      <th>1</th>\n",
       "      <td>1</td>\n",
       "      <td>175.0</td>\n",
       "      <td>493</td>\n",
       "      <td>61648</td>\n",
       "      <td>4.0974</td>\n",
       "      <td>1.00</td>\n",
       "      <td>0</td>\n",
       "      <td>0.83</td>\n",
       "      <td>0.80</td>\n",
       "      <td>175.00</td>\n",
       "    </tr>\n",
       "    <tr>\n",
       "      <th>2</th>\n",
       "      <td>2</td>\n",
       "      <td>39.0</td>\n",
       "      <td>2000</td>\n",
       "      <td>188389</td>\n",
       "      <td>4.0403</td>\n",
       "      <td>1.08</td>\n",
       "      <td>0</td>\n",
       "      <td>0.20</td>\n",
       "      <td>1.06</td>\n",
       "      <td>36.11</td>\n",
       "    </tr>\n",
       "    <tr>\n",
       "      <th>3</th>\n",
       "      <td>3</td>\n",
       "      <td>68.0</td>\n",
       "      <td>1000</td>\n",
       "      <td>149323</td>\n",
       "      <td>4.2447</td>\n",
       "      <td>1.70</td>\n",
       "      <td>1</td>\n",
       "      <td>0.42</td>\n",
       "      <td>0.67</td>\n",
       "      <td>40.00</td>\n",
       "    </tr>\n",
       "    <tr>\n",
       "      <th>4</th>\n",
       "      <td>4</td>\n",
       "      <td>179.0</td>\n",
       "      <td>788</td>\n",
       "      <td>68880</td>\n",
       "      <td>4.0622</td>\n",
       "      <td>NaN</td>\n",
       "      <td>0</td>\n",
       "      <td>0.52</td>\n",
       "      <td>1.14</td>\n",
       "      <td>NaN</td>\n",
       "    </tr>\n",
       "  </tbody>\n",
       "</table>\n",
       "</div>"
      ],
      "text/plain": [
       "   Unnamed: 0  price  n_of_reviews  n_of_loves  review_score  size  \\\n",
       "0           0   68.0          1000      136008        4.2097  1.69   \n",
       "1           1  175.0           493       61648        4.0974  1.00   \n",
       "2           2   39.0          2000      188389        4.0403  1.08   \n",
       "3           3   68.0          1000      149323        4.2447  1.70   \n",
       "4           4  179.0           788       68880        4.0622   NaN   \n",
       "\n",
       "   clean_product  return_on_reviews  reviews_to_loves_ratio  price_per_ounce  \n",
       "0              1               0.42                    0.74            40.24  \n",
       "1              0               0.83                    0.80           175.00  \n",
       "2              0               0.20                    1.06            36.11  \n",
       "3              1               0.42                    0.67            40.00  \n",
       "4              0               0.52                    1.14              NaN  "
      ]
     },
     "execution_count": 320,
     "metadata": {},
     "output_type": "execute_result"
    }
   ],
   "source": [
    "pretty_regression.head()"
   ]
  },
  {
   "cell_type": "code",
   "execution_count": 321,
   "metadata": {},
   "outputs": [],
   "source": [
    "# Drop Unnamed: 0 column from each dataframe\n",
    "skincare_df = skincare_df.drop([\"Unnamed: 0\"], axis=1)\n",
    "pretty_numbers = pretty_numbers.drop([\"Unnamed: 0\"], axis=1)\n",
    "pretty_regression = pretty_regression.drop([\"Unnamed: 0\"], axis=1)"
   ]
  },
  {
   "cell_type": "code",
   "execution_count": 322,
   "metadata": {},
   "outputs": [
    {
     "data": {
      "text/html": [
       "<div>\n",
       "<style scoped>\n",
       "    .dataframe tbody tr th:only-of-type {\n",
       "        vertical-align: middle;\n",
       "    }\n",
       "\n",
       "    .dataframe tbody tr th {\n",
       "        vertical-align: top;\n",
       "    }\n",
       "\n",
       "    .dataframe thead th {\n",
       "        text-align: right;\n",
       "    }\n",
       "</style>\n",
       "<table border=\"1\" class=\"dataframe\">\n",
       "  <thead>\n",
       "    <tr style=\"text-align: right;\">\n",
       "      <th></th>\n",
       "      <th>brand</th>\n",
       "      <th>name</th>\n",
       "      <th>price</th>\n",
       "      <th>n_of_reviews</th>\n",
       "      <th>n_of_loves</th>\n",
       "      <th>review_score</th>\n",
       "      <th>size</th>\n",
       "      <th>clean_product</th>\n",
       "      <th>category_Anti-Aging</th>\n",
       "      <th>category_BB_&amp;_CC_Cream</th>\n",
       "      <th>...</th>\n",
       "      <th>category_Setting_Spray_&amp;_Powder</th>\n",
       "      <th>category_Sheet_Masks</th>\n",
       "      <th>category_Skincare</th>\n",
       "      <th>category_Tinted_Moisturizer</th>\n",
       "      <th>category_Toners</th>\n",
       "      <th>category_Tools</th>\n",
       "      <th>category_Value_&amp;_Gift_Sets</th>\n",
       "      <th>reviews_to_loves_ratio</th>\n",
       "      <th>return_on_reviews</th>\n",
       "      <th>price_per_ounce</th>\n",
       "    </tr>\n",
       "  </thead>\n",
       "  <tbody>\n",
       "    <tr>\n",
       "      <th>0</th>\n",
       "      <td>Drunk Elephant</td>\n",
       "      <td>Protini Polypeptide Moisturizer</td>\n",
       "      <td>68.0</td>\n",
       "      <td>1000</td>\n",
       "      <td>136008</td>\n",
       "      <td>4.2097</td>\n",
       "      <td>1.69</td>\n",
       "      <td>1</td>\n",
       "      <td>0</td>\n",
       "      <td>0</td>\n",
       "      <td>...</td>\n",
       "      <td>0</td>\n",
       "      <td>0</td>\n",
       "      <td>0</td>\n",
       "      <td>0</td>\n",
       "      <td>0</td>\n",
       "      <td>0</td>\n",
       "      <td>0</td>\n",
       "      <td>0.74</td>\n",
       "      <td>0.42</td>\n",
       "      <td>40.24</td>\n",
       "    </tr>\n",
       "    <tr>\n",
       "      <th>1</th>\n",
       "      <td>La Mer</td>\n",
       "      <td>Crreme de la Mer</td>\n",
       "      <td>175.0</td>\n",
       "      <td>493</td>\n",
       "      <td>61648</td>\n",
       "      <td>4.0974</td>\n",
       "      <td>1.00</td>\n",
       "      <td>0</td>\n",
       "      <td>0</td>\n",
       "      <td>0</td>\n",
       "      <td>...</td>\n",
       "      <td>0</td>\n",
       "      <td>0</td>\n",
       "      <td>0</td>\n",
       "      <td>0</td>\n",
       "      <td>0</td>\n",
       "      <td>0</td>\n",
       "      <td>0</td>\n",
       "      <td>0.80</td>\n",
       "      <td>0.83</td>\n",
       "      <td>175.00</td>\n",
       "    </tr>\n",
       "    <tr>\n",
       "      <th>2</th>\n",
       "      <td>IT Cosmetics</td>\n",
       "      <td>CC+ Cream with SPF 50+</td>\n",
       "      <td>39.0</td>\n",
       "      <td>2000</td>\n",
       "      <td>188389</td>\n",
       "      <td>4.0403</td>\n",
       "      <td>1.08</td>\n",
       "      <td>0</td>\n",
       "      <td>0</td>\n",
       "      <td>1</td>\n",
       "      <td>...</td>\n",
       "      <td>0</td>\n",
       "      <td>0</td>\n",
       "      <td>0</td>\n",
       "      <td>0</td>\n",
       "      <td>0</td>\n",
       "      <td>0</td>\n",
       "      <td>0</td>\n",
       "      <td>1.06</td>\n",
       "      <td>0.20</td>\n",
       "      <td>36.11</td>\n",
       "    </tr>\n",
       "    <tr>\n",
       "      <th>3</th>\n",
       "      <td>Tatcha</td>\n",
       "      <td>The Water Cream</td>\n",
       "      <td>68.0</td>\n",
       "      <td>1000</td>\n",
       "      <td>149323</td>\n",
       "      <td>4.2447</td>\n",
       "      <td>1.70</td>\n",
       "      <td>1</td>\n",
       "      <td>0</td>\n",
       "      <td>0</td>\n",
       "      <td>...</td>\n",
       "      <td>0</td>\n",
       "      <td>0</td>\n",
       "      <td>0</td>\n",
       "      <td>0</td>\n",
       "      <td>0</td>\n",
       "      <td>0</td>\n",
       "      <td>0</td>\n",
       "      <td>0.67</td>\n",
       "      <td>0.42</td>\n",
       "      <td>40.00</td>\n",
       "    </tr>\n",
       "    <tr>\n",
       "      <th>4</th>\n",
       "      <td>SK-II</td>\n",
       "      <td>Facial Treatment Essence</td>\n",
       "      <td>179.0</td>\n",
       "      <td>788</td>\n",
       "      <td>68880</td>\n",
       "      <td>4.0622</td>\n",
       "      <td>NaN</td>\n",
       "      <td>0</td>\n",
       "      <td>0</td>\n",
       "      <td>0</td>\n",
       "      <td>...</td>\n",
       "      <td>0</td>\n",
       "      <td>0</td>\n",
       "      <td>0</td>\n",
       "      <td>0</td>\n",
       "      <td>0</td>\n",
       "      <td>0</td>\n",
       "      <td>0</td>\n",
       "      <td>1.14</td>\n",
       "      <td>0.52</td>\n",
       "      <td>NaN</td>\n",
       "    </tr>\n",
       "  </tbody>\n",
       "</table>\n",
       "<p>5 rows × 46 columns</p>\n",
       "</div>"
      ],
      "text/plain": [
       "            brand                             name  price  n_of_reviews  \\\n",
       "0  Drunk Elephant  Protini Polypeptide Moisturizer   68.0          1000   \n",
       "1          La Mer                 Crreme de la Mer  175.0           493   \n",
       "2    IT Cosmetics           CC+ Cream with SPF 50+   39.0          2000   \n",
       "3          Tatcha                  The Water Cream   68.0          1000   \n",
       "4           SK-II         Facial Treatment Essence  179.0           788   \n",
       "\n",
       "   n_of_loves  review_score  size  clean_product  category_Anti-Aging  \\\n",
       "0      136008        4.2097  1.69              1                    0   \n",
       "1       61648        4.0974  1.00              0                    0   \n",
       "2      188389        4.0403  1.08              0                    0   \n",
       "3      149323        4.2447  1.70              1                    0   \n",
       "4       68880        4.0622   NaN              0                    0   \n",
       "\n",
       "   category_BB_&_CC_Cream       ...         category_Setting_Spray_&_Powder  \\\n",
       "0                       0       ...                                       0   \n",
       "1                       0       ...                                       0   \n",
       "2                       1       ...                                       0   \n",
       "3                       0       ...                                       0   \n",
       "4                       0       ...                                       0   \n",
       "\n",
       "   category_Sheet_Masks  category_Skincare  category_Tinted_Moisturizer  \\\n",
       "0                     0                  0                            0   \n",
       "1                     0                  0                            0   \n",
       "2                     0                  0                            0   \n",
       "3                     0                  0                            0   \n",
       "4                     0                  0                            0   \n",
       "\n",
       "   category_Toners  category_Tools  category_Value_&_Gift_Sets  \\\n",
       "0                0               0                           0   \n",
       "1                0               0                           0   \n",
       "2                0               0                           0   \n",
       "3                0               0                           0   \n",
       "4                0               0                           0   \n",
       "\n",
       "   reviews_to_loves_ratio  return_on_reviews  price_per_ounce  \n",
       "0                    0.74               0.42            40.24  \n",
       "1                    0.80               0.83           175.00  \n",
       "2                    1.06               0.20            36.11  \n",
       "3                    0.67               0.42            40.00  \n",
       "4                    1.14               0.52              NaN  \n",
       "\n",
       "[5 rows x 46 columns]"
      ]
     },
     "execution_count": 322,
     "metadata": {},
     "output_type": "execute_result"
    }
   ],
   "source": [
    "skincare_df.head()"
   ]
  },
  {
   "cell_type": "code",
   "execution_count": 267,
   "metadata": {},
   "outputs": [],
   "source": [
    "# Splitting the dataset\n",
    "train, test = train_test_split(pretty_numbers, test_size=0.2)"
   ]
  },
  {
   "cell_type": "code",
   "execution_count": 268,
   "metadata": {},
   "outputs": [],
   "source": [
    "# Splitting the dataset\n",
    "train_1, test_1 = train_test_split(pretty_regression, test_size=0.2)"
   ]
  },
  {
   "cell_type": "code",
   "execution_count": 269,
   "metadata": {},
   "outputs": [],
   "source": [
    "# Creating variables with training set\n",
    "n_of_reviews = train[\"n_of_reviews\"].as_matrix(columns=None)\n",
    "n_of_loves = train[\"n_of_loves\"].as_matrix(columns=None)\n",
    "reviews_to_loves_ratio = train[\"reviews_to_loves_ratio\"].as_matrix(columns=None)\n",
    "review_score = train[\"review_score\"].as_matrix(columns=None)"
   ]
  },
  {
   "cell_type": "code",
   "execution_count": 270,
   "metadata": {},
   "outputs": [
    {
     "data": {
      "text/plain": [
       "(1351,)"
      ]
     },
     "execution_count": 270,
     "metadata": {},
     "output_type": "execute_result"
    }
   ],
   "source": [
    "# Use scikit learn method to create polynomial features\n",
    "poly = PolynomialFeatures(degree=2)\n",
    "\n",
    "X2_reviews = poly.fit_transform(n_of_reviews.reshape(-1,1))\n",
    "X2_loves = poly.fit_transform(n_of_loves.reshape(-1,1))\n",
    "X2_review_love = poly.fit_transform(reviews_to_loves_ratio.reshape(-1,1))\n",
    "\n",
    "predict_score = poly.fit_transform([review_score])\n",
    "\n",
    "X2_reviews.shape\n",
    "review_score.shape"
   ]
  },
  {
   "cell_type": "code",
   "execution_count": 271,
   "metadata": {},
   "outputs": [
    {
     "data": {
      "text/plain": [
       "LinearRegression(copy_X=True, fit_intercept=True, n_jobs=None,\n",
       "         normalize=False)"
      ]
     },
     "execution_count": 271,
     "metadata": {},
     "output_type": "execute_result"
    }
   ],
   "source": [
    "# Linear regression\n",
    "\n",
    "lr_reviews = LinearRegression()\n",
    "lr_loves = LinearRegression()\n",
    "lr_review_love = LinearRegression()\n",
    "\n",
    "lr_reviews.fit(X2_reviews, review_score)\n",
    "lr_loves.fit(X2_loves, review_score)\n",
    "lr_review_love.fit(X2_review_love, review_score)"
   ]
  },
  {
   "cell_type": "code",
   "execution_count": 272,
   "metadata": {},
   "outputs": [
    {
     "data": {
      "text/plain": [
       "array([ 0.00000000e+00,  5.27726410e-05, -1.01683709e-09])"
      ]
     },
     "execution_count": 272,
     "metadata": {},
     "output_type": "execute_result"
    }
   ],
   "source": [
    "lr_reviews.coef_"
   ]
  },
  {
   "cell_type": "code",
   "execution_count": 273,
   "metadata": {
    "scrolled": true
   },
   "outputs": [
    {
     "data": {
      "text/plain": [
       "array([ 0.00000000e+00,  9.87046084e-07, -3.51839856e-12])"
      ]
     },
     "execution_count": 273,
     "metadata": {},
     "output_type": "execute_result"
    }
   ],
   "source": [
    "lr_loves.coef_"
   ]
  },
  {
   "cell_type": "code",
   "execution_count": 274,
   "metadata": {},
   "outputs": [
    {
     "data": {
      "text/plain": [
       "array([ 0.00000000e+00,  5.30502244e-03, -1.74583985e-05])"
      ]
     },
     "execution_count": 274,
     "metadata": {},
     "output_type": "execute_result"
    }
   ],
   "source": [
    "lr_review_love.coef_"
   ]
  },
  {
   "cell_type": "code",
   "execution_count": 275,
   "metadata": {},
   "outputs": [
    {
     "data": {
      "text/plain": [
       "4.163532187849971"
      ]
     },
     "execution_count": 275,
     "metadata": {},
     "output_type": "execute_result"
    }
   ],
   "source": [
    "lr_reviews.intercept_"
   ]
  },
  {
   "cell_type": "code",
   "execution_count": 276,
   "metadata": {},
   "outputs": [
    {
     "data": {
      "text/plain": [
       "4.164965457704634"
      ]
     },
     "execution_count": 276,
     "metadata": {},
     "output_type": "execute_result"
    }
   ],
   "source": [
    "lr_loves.intercept_"
   ]
  },
  {
   "cell_type": "code",
   "execution_count": 277,
   "metadata": {
    "scrolled": true
   },
   "outputs": [
    {
     "data": {
      "text/plain": [
       "4.163534524424232"
      ]
     },
     "execution_count": 277,
     "metadata": {},
     "output_type": "execute_result"
    }
   ],
   "source": [
    "lr_review_love.intercept_"
   ]
  },
  {
   "cell_type": "code",
   "execution_count": 278,
   "metadata": {},
   "outputs": [
    {
     "data": {
      "text/plain": [
       "0.0025260404507567724"
      ]
     },
     "execution_count": 278,
     "metadata": {},
     "output_type": "execute_result"
    }
   ],
   "source": [
    "lr_reviews.score(X2_reviews, review_score)"
   ]
  },
  {
   "cell_type": "code",
   "execution_count": 279,
   "metadata": {},
   "outputs": [
    {
     "data": {
      "text/plain": [
       "0.0009271088043023569"
      ]
     },
     "execution_count": 279,
     "metadata": {},
     "output_type": "execute_result"
    }
   ],
   "source": [
    "lr_loves.score(X2_loves, review_score)"
   ]
  },
  {
   "cell_type": "code",
   "execution_count": 280,
   "metadata": {},
   "outputs": [
    {
     "data": {
      "text/plain": [
       "0.003292461536182678"
      ]
     },
     "execution_count": 280,
     "metadata": {},
     "output_type": "execute_result"
    }
   ],
   "source": [
    "lr_review_love.score(X2_review_love, review_score)"
   ]
  },
  {
   "cell_type": "code",
   "execution_count": 310,
   "metadata": {},
   "outputs": [],
   "source": [
    "\n",
    "# Creating variables with test set\n",
    "n_of_reviews_test = test[\"n_of_reviews\"].as_matrix(columns=None)\n",
    "n_of_loves_test = test[\"n_of_loves\"].as_matrix(columns=None)\n",
    "\n",
    "# Use scikit learn method to create polynomial features\n",
    "poly = PolynomialFeatures(degree=2)\n",
    "X2_reviews_test = poly.fit_transform(n_of_reviews_test.reshape(-1,1))\n",
    "X2_loves_test = poly.fit_transform(n_of_loves_test.reshape(-1,1))\n"
   ]
  },
  {
   "cell_type": "code",
   "execution_count": 311,
   "metadata": {},
   "outputs": [
    {
     "data": {
      "text/plain": [
       "Text(0, 0.5, 'Review Score')"
      ]
     },
     "execution_count": 311,
     "metadata": {},
     "output_type": "execute_result"
    },
    {
     "data": {
      "image/png": "[encoded data removed]",
      "text/plain": [
       "<Figure size 432x288 with 1 Axes>"
      ]
     },
     "metadata": {},
     "output_type": "display_data"
    }
   ],
   "source": [
    "# Plotting polynomial regression\n",
    "plt.scatter(n_of_reviews, review_score)\n",
    "plt.plot(n_of_reviews_test, lr_reviews.predict(X2_reviews_test), label = \"x^2\", color = \"lightpink\")\n",
    "plt.title(\"Number of reviews V. Review Score\")\n",
    "plt.legend()\n",
    "plt.xlim(0, 1000)\n",
    "plt.xlabel(\"Number of reviews\")\n",
    "plt.ylabel(\"Review Score\")"
   ]
  },
  {
   "cell_type": "code",
   "execution_count": 303,
   "metadata": {},
   "outputs": [
    {
     "data": {
      "text/plain": [
       "Text(0, 0.5, 'Review Score')"
      ]
     },
     "execution_count": 303,
     "metadata": {},
     "output_type": "execute_result"
    },
    {
     "data": {
      "image/png": "[encoded data removed]",
      "text/plain": [
       "<Figure size 432x288 with 1 Axes>"
      ]
     },
     "metadata": {},
     "output_type": "display_data"
    }
   ],
   "source": [
    "# Plotting polynomial regression\n",
    "plt.scatter(n_of_loves, review_score)\n",
    "plt.plot(n_of_loves_test, lr_loves.predict(X2_loves_test), label = \"x^2\", color = \"lightpink\")\n",
    "plt.title(\"Number of Loves V. Review Score\")\n",
    "plt.xlim(0, 50000)\n",
    "plt.legend()\n",
    "plt.xlabel(\"Number of Loves\")\n",
    "plt.ylabel(\"Review Score\")"
   ]
  },
  {
   "cell_type": "code",
   "execution_count": 305,
   "metadata": {},
   "outputs": [
    {
     "data": {
      "text/plain": [
       "<matplotlib.axes._subplots.AxesSubplot at 0x1c2866fe10>"
      ]
     },
     "execution_count": 305,
     "metadata": {},
     "output_type": "execute_result"
    },
    {
     "data": {
      "image/png": "[encoded data removed]",
      "text/plain": [
       "<Figure size 432x288 with 1 Axes>"
      ]
     },
     "metadata": {},
     "output_type": "display_data"
    }
   ],
   "source": [
    "# Residuals, testing for homoscedasticity\n",
    "sns.residplot(lr_reviews.predict(X2_reviews), review_score)"
   ]
  },
  {
   "cell_type": "code",
   "execution_count": 306,
   "metadata": {},
   "outputs": [
    {
     "data": {
      "text/plain": [
       "<matplotlib.axes._subplots.AxesSubplot at 0x1c2249d4a8>"
      ]
     },
     "execution_count": 306,
     "metadata": {},
     "output_type": "execute_result"
    },
    {
     "data": {
      "image/png": "[encoded data removed]",
      "text/plain": [
       "<Figure size 432x288 with 1 Axes>"
      ]
     },
     "metadata": {},
     "output_type": "display_data"
    }
   ],
   "source": [
    "# Residuals, testing for homoscedasticity\n",
    "sns.residplot(lr_loves.predict(X2_loves), review_score)"
   ]
  },
  {
   "cell_type": "code",
   "execution_count": 307,
   "metadata": {
    "scrolled": true
   },
   "outputs": [
    {
     "data": {
      "text/plain": [
       "<matplotlib.axes._subplots.AxesSubplot at 0x1c29e11dd8>"
      ]
     },
     "execution_count": 307,
     "metadata": {},
     "output_type": "execute_result"
    },
    {
     "data": {
      "image/png": "[encoded data removed]",
      "text/plain": [
       "<Figure size 432x288 with 1 Axes>"
      ]
     },
     "metadata": {},
     "output_type": "display_data"
    }
   ],
   "source": [
    "# Residuals, testing for homoscedasticity\n",
    "sns.residplot(lr_review_love.predict(X2_review_love), review_score)"
   ]
  },
  {
   "cell_type": "code",
   "execution_count": null,
   "metadata": {},
   "outputs": [],
   "source": []
  },
  {
   "cell_type": "code",
   "execution_count": 288,
   "metadata": {},
   "outputs": [
    {
     "data": {
      "text/plain": [
       "LinearRegression(copy_X=True, fit_intercept=True, n_jobs=None,\n",
       "         normalize=False)"
      ]
     },
     "execution_count": 288,
     "metadata": {},
     "output_type": "execute_result"
    }
   ],
   "source": [
    "# Scikit Learn\n",
    "# Multiple Linear Regression\n",
    "# Create X and y\n",
    "feature_cols = ['clean_product', 'category_Anti-Aging', 'category_BB_&_CC_Cream',\n",
    "               'category_Bath_&_Shower', 'category_Beauty_Supplements',\n",
    "               'category_Blemish_&_Acne_Treatments', 'category_Blotting_Papers',\n",
    "               'category_Body_Lotions_&_Body_Oils',\n",
    "               'category_Cellulite_&_Stretch_Marks',\n",
    "               'category_Decollete_&_Neck_Creams', 'category_Exfoliators',\n",
    "               'category_Eye_Creams_&_Treatments', 'category_Eye_Masks',\n",
    "               'category_Face_Masks', 'category_Face_Oils', 'category_Face_Primer',\n",
    "               'category_Face_Serums', 'category_Face_Sunscreen',\n",
    "               'category_Face_Wash_&_Cleansers', 'category_Facial_Peels',\n",
    "               'category_Foundation', 'category_Hair_Oil', 'category_Highlighter',\n",
    "               'category_Holistic_Wellness', 'category_Mini_Size',\n",
    "               'category_Mists_&_Essences', 'category_Moisturizer_&_Treatments',\n",
    "               'category_Moisturizers', 'category_Night_Creams',\n",
    "               'category_Setting_Spray_&_Powder', 'category_Sheet_Masks',\n",
    "               'category_Skincare', 'category_Tinted_Moisturizer', 'category_Toners',\n",
    "               'category_Tools', 'category_Value_&_Gift_Sets']\n",
    "X = train[feature_cols]\n",
    "y = train.review_score\n",
    "\n",
    "# instantiate and fit\n",
    "lm2 = LinearRegression()\n",
    "lm2.fit(X, y)"
   ]
  },
  {
   "cell_type": "code",
   "execution_count": 289,
   "metadata": {},
   "outputs": [
    {
     "name": "stdout",
     "output_type": "stream",
     "text": [
      "Coefficients:  [-1.24667267e-02 -2.36259636e-01 -3.79065691e-01 -2.36987782e+00\n",
      " -1.33603488e-01 -3.61907597e-01 -2.87877818e-01 -2.61711091e-01\n",
      " -4.36577818e-01 -5.68514848e-01  4.21822182e-01 -5.09794810e-01\n",
      " -5.06598647e-01 -9.94517555e-02 -5.87664560e-03 -5.19116697e-01\n",
      " -7.96861734e-02 -3.19863761e-01 -9.49356936e-02  1.73624823e-01\n",
      " -6.69877818e-01  4.66988909e-01 -6.61077818e-01  1.50138639e-02\n",
      " -8.88178420e-16 -1.10493984e-01  4.25551908e-03 -2.15189156e-01\n",
      " -4.31133261e-02 -3.78551127e-01 -3.77777818e-01 -2.66277818e-01\n",
      " -1.20077818e-01 -2.19622242e-01 -1.44855588e-01 -5.17227818e-01]\n"
     ]
    }
   ],
   "source": [
    "print(\"Coefficients: \", lm2.coef_)"
   ]
  },
  {
   "cell_type": "code",
   "execution_count": 290,
   "metadata": {},
   "outputs": [
    {
     "name": "stdout",
     "output_type": "stream",
     "text": [
      "Intercept:  4.369877817784147\n"
     ]
    }
   ],
   "source": [
    "print(\"Intercept: \", lm2.intercept_)"
   ]
  },
  {
   "cell_type": "code",
   "execution_count": 291,
   "metadata": {},
   "outputs": [
    {
     "name": "stdout",
     "output_type": "stream",
     "text": [
      "R Squared:  0.16017479284014668\n"
     ]
    }
   ],
   "source": [
    "print(\"R Squared: \", lm2.score(X, y))"
   ]
  },
  {
   "cell_type": "code",
   "execution_count": 292,
   "metadata": {},
   "outputs": [
    {
     "name": "stdout",
     "output_type": "stream",
     "text": [
      "Coefficients:  [4.31734919e-04 7.41161246e-05 6.97424237e-07 4.55699744e-02\n",
      " 2.68694427e-03 1.58297861e-03]\n",
      "Intercept:  4.0567036921910145\n",
      "R Squared:  0.07869800904648871\n"
     ]
    }
   ],
   "source": [
    "#Scikit Learn\n",
    "# Multiple Regression\n",
    "# Create X and y\n",
    "feature_cols_2 = ['price', 'n_of_reviews', 'n_of_loves', 'clean_product',\n",
    "                  'reviews_to_loves_ratio', 'return_on_reviews']\n",
    "X_2 = train[feature_cols_2]\n",
    "y_2 = train.review_score\n",
    "\n",
    "# instantiate and fit\n",
    "lm3 = LinearRegression()\n",
    "lm3.fit(X_2, y_2)\n",
    "\n",
    "print(\"Coefficients: \", lm3.coef_)\n",
    "print(\"Intercept: \", lm3.intercept_)\n",
    "print(\"R Squared: \", lm3.score(X_2, y_2))"
   ]
  },
  {
   "cell_type": "code",
   "execution_count": 293,
   "metadata": {},
   "outputs": [
    {
     "name": "stdout",
     "output_type": "stream",
     "text": [
      "Coefficients:  [ 1.38963006e-04  8.45778014e-05  1.44455825e-07  1.03577378e-03\n",
      "  1.81813303e-03  1.51289689e-03  1.03577377e-03 -2.66020053e-01\n",
      " -4.10359819e-01 -2.48537002e+00 -2.22746380e-01 -3.67497302e-01\n",
      " -2.61908524e-01 -2.92025625e-01 -4.22667072e-01 -6.11635168e-01\n",
      "  4.28161739e-01 -5.23849957e-01 -4.94550973e-01 -1.38183020e-01\n",
      " -2.64788150e-02 -5.50023592e-01 -1.34791893e-01 -3.28036129e-01\n",
      " -9.61136112e-02  1.29844123e-01 -6.55468493e-01  4.78656098e-01\n",
      " -6.48343557e-01 -9.91644287e-02  5.12090370e-14 -1.29511671e-01\n",
      " -2.02380381e-02 -2.41888923e-01 -7.75669658e-02 -3.88955145e-01\n",
      " -3.70278294e-01 -2.86573267e-01 -2.58853213e-01 -2.43980207e-01\n",
      " -1.66459885e-01 -6.36389689e-01]\n",
      "Intercept:  4.319288292952138\n",
      "R Squared:  0.22513189289722524\n"
     ]
    }
   ],
   "source": [
    "# Scikit Learn\n",
    "# Multiple Linear Regression\n",
    "# Create X and y\n",
    "feature_cols_3 = ['price', 'n_of_reviews', 'n_of_loves', 'clean_product',\n",
    "                  'reviews_to_loves_ratio', 'return_on_reviews',\n",
    "                'clean_product', 'category_Anti-Aging', 'category_BB_&_CC_Cream',\n",
    "               'category_Bath_&_Shower', 'category_Beauty_Supplements',\n",
    "               'category_Blemish_&_Acne_Treatments', 'category_Blotting_Papers',\n",
    "               'category_Body_Lotions_&_Body_Oils',\n",
    "               'category_Cellulite_&_Stretch_Marks',\n",
    "               'category_Decollete_&_Neck_Creams', 'category_Exfoliators',\n",
    "               'category_Eye_Creams_&_Treatments', 'category_Eye_Masks',\n",
    "               'category_Face_Masks', 'category_Face_Oils', 'category_Face_Primer',\n",
    "               'category_Face_Serums', 'category_Face_Sunscreen',\n",
    "               'category_Face_Wash_&_Cleansers', 'category_Facial_Peels',\n",
    "               'category_Foundation', 'category_Hair_Oil', 'category_Highlighter',\n",
    "               'category_Holistic_Wellness', 'category_Mini_Size',\n",
    "               'category_Mists_&_Essences', 'category_Moisturizer_&_Treatments',\n",
    "               'category_Moisturizers', 'category_Night_Creams',\n",
    "               'category_Setting_Spray_&_Powder', 'category_Sheet_Masks',\n",
    "               'category_Skincare', 'category_Tinted_Moisturizer', 'category_Toners',\n",
    "               'category_Tools', 'category_Value_&_Gift_Sets']\n",
    "X_3 = train[feature_cols_3]\n",
    "y_3 = train.review_score\n",
    "\n",
    "# instantiate and fit\n",
    "lm4 = LinearRegression()\n",
    "lm4.fit(X_3, y_3)\n",
    "\n",
    "print(\"Coefficients: \", lm4.coef_)\n",
    "print(\"Intercept: \", lm4.intercept_)\n",
    "print(\"R Squared: \", lm4.score(X_3, y_3))"
   ]
  },
  {
   "cell_type": "code",
   "execution_count": 294,
   "metadata": {},
   "outputs": [],
   "source": [
    "# Statsmodels\n",
    "# Multiple Regression\n",
    "y_1 = train[\"review_score\"]\n",
    "x_1 = train[['price', 'n_of_reviews', 'n_of_loves', 'clean_product',\n",
    "                  'reviews_to_loves_ratio', 'return_on_reviews']]\n",
    "f_1 = \"review_score~price+n_of_reviews+n_of_loves+clean_product+reviews_to_loves_ratio+return_on_reviews\"\n",
    "\n",
    "model_1 = smf.ols(formula = f_1, data = train).fit()"
   ]
  },
  {
   "cell_type": "code",
   "execution_count": 295,
   "metadata": {},
   "outputs": [
    {
     "data": {
      "text/html": [
       "<table class=\"simpletable\">\n",
       "<caption>OLS Regression Results</caption>\n",
       "<tr>\n",
       "  <th>Dep. Variable:</th>      <td>review_score</td>   <th>  R-squared:         </th> <td>   0.079</td>\n",
       "</tr>\n",
       "<tr>\n",
       "  <th>Model:</th>                   <td>OLS</td>       <th>  Adj. R-squared:    </th> <td>   0.075</td>\n",
       "</tr>\n",
       "<tr>\n",
       "  <th>Method:</th>             <td>Least Squares</td>  <th>  F-statistic:       </th> <td>   19.13</td>\n",
       "</tr>\n",
       "<tr>\n",
       "  <th>Date:</th>             <td>Fri, 19 Apr 2019</td> <th>  Prob (F-statistic):</th> <td>1.74e-21</td>\n",
       "</tr>\n",
       "<tr>\n",
       "  <th>Time:</th>                 <td>12:23:04</td>     <th>  Log-Likelihood:    </th> <td> -799.51</td>\n",
       "</tr>\n",
       "<tr>\n",
       "  <th>No. Observations:</th>      <td>  1351</td>      <th>  AIC:               </th> <td>   1613.</td>\n",
       "</tr>\n",
       "<tr>\n",
       "  <th>Df Residuals:</th>          <td>  1344</td>      <th>  BIC:               </th> <td>   1649.</td>\n",
       "</tr>\n",
       "<tr>\n",
       "  <th>Df Model:</th>              <td>     6</td>      <th>                     </th>     <td> </td>   \n",
       "</tr>\n",
       "<tr>\n",
       "  <th>Covariance Type:</th>      <td>nonrobust</td>    <th>                     </th>     <td> </td>   \n",
       "</tr>\n",
       "</table>\n",
       "<table class=\"simpletable\">\n",
       "<tr>\n",
       "             <td></td>               <th>coef</th>     <th>std err</th>      <th>t</th>      <th>P>|t|</th>  <th>[0.025</th>    <th>0.975]</th>  \n",
       "</tr>\n",
       "<tr>\n",
       "  <th>Intercept</th>              <td>    4.0567</td> <td>    0.024</td> <td>  171.355</td> <td> 0.000</td> <td>    4.010</td> <td>    4.103</td>\n",
       "</tr>\n",
       "<tr>\n",
       "  <th>price</th>                  <td>    0.0004</td> <td>    0.000</td> <td>    1.720</td> <td> 0.086</td> <td>-6.05e-05</td> <td>    0.001</td>\n",
       "</tr>\n",
       "<tr>\n",
       "  <th>n_of_reviews</th>           <td> 7.412e-05</td> <td> 3.94e-05</td> <td>    1.882</td> <td> 0.060</td> <td>-3.13e-06</td> <td>    0.000</td>\n",
       "</tr>\n",
       "<tr>\n",
       "  <th>n_of_loves</th>             <td> 6.974e-07</td> <td> 8.16e-07</td> <td>    0.855</td> <td> 0.393</td> <td>-9.03e-07</td> <td>  2.3e-06</td>\n",
       "</tr>\n",
       "<tr>\n",
       "  <th>clean_product</th>          <td>    0.0456</td> <td>    0.031</td> <td>    1.471</td> <td> 0.141</td> <td>   -0.015</td> <td>    0.106</td>\n",
       "</tr>\n",
       "<tr>\n",
       "  <th>reviews_to_loves_ratio</th> <td>    0.0027</td> <td>    0.001</td> <td>    2.138</td> <td> 0.033</td> <td>    0.000</td> <td>    0.005</td>\n",
       "</tr>\n",
       "<tr>\n",
       "  <th>return_on_reviews</th>      <td>    0.0016</td> <td>    0.000</td> <td>   10.044</td> <td> 0.000</td> <td>    0.001</td> <td>    0.002</td>\n",
       "</tr>\n",
       "</table>\n",
       "<table class=\"simpletable\">\n",
       "<tr>\n",
       "  <th>Omnibus:</th>       <td>466.137</td> <th>  Durbin-Watson:     </th> <td>   2.079</td>\n",
       "</tr>\n",
       "<tr>\n",
       "  <th>Prob(Omnibus):</th> <td> 0.000</td>  <th>  Jarque-Bera (JB):  </th> <td>2652.703</td>\n",
       "</tr>\n",
       "<tr>\n",
       "  <th>Skew:</th>          <td>-1.492</td>  <th>  Prob(JB):          </th> <td>    0.00</td>\n",
       "</tr>\n",
       "<tr>\n",
       "  <th>Kurtosis:</th>      <td> 9.182</td>  <th>  Cond. No.          </th> <td>7.10e+04</td>\n",
       "</tr>\n",
       "</table><br/><br/>Warnings:<br/>[1] Standard Errors assume that the covariance matrix of the errors is correctly specified.<br/>[2] The condition number is large, 7.1e+04. This might indicate that there are<br/>strong multicollinearity or other numerical problems."
      ],
      "text/plain": [
       "<class 'statsmodels.iolib.summary.Summary'>\n",
       "\"\"\"\n",
       "                            OLS Regression Results                            \n",
       "==============================================================================\n",
       "Dep. Variable:           review_score   R-squared:                       0.079\n",
       "Model:                            OLS   Adj. R-squared:                  0.075\n",
       "Method:                 Least Squares   F-statistic:                     19.13\n",
       "Date:                Fri, 19 Apr 2019   Prob (F-statistic):           1.74e-21\n",
       "Time:                        12:23:04   Log-Likelihood:                -799.51\n",
       "No. Observations:                1351   AIC:                             1613.\n",
       "Df Residuals:                    1344   BIC:                             1649.\n",
       "Df Model:                           6                                         \n",
       "Covariance Type:            nonrobust                                         \n",
       "==========================================================================================\n",
       "                             coef    std err          t      P>|t|      [0.025      0.975]\n",
       "------------------------------------------------------------------------------------------\n",
       "Intercept                  4.0567      0.024    171.355      0.000       4.010       4.103\n",
       "price                      0.0004      0.000      1.720      0.086   -6.05e-05       0.001\n",
       "n_of_reviews            7.412e-05   3.94e-05      1.882      0.060   -3.13e-06       0.000\n",
       "n_of_loves              6.974e-07   8.16e-07      0.855      0.393   -9.03e-07     2.3e-06\n",
       "clean_product              0.0456      0.031      1.471      0.141      -0.015       0.106\n",
       "reviews_to_loves_ratio     0.0027      0.001      2.138      0.033       0.000       0.005\n",
       "return_on_reviews          0.0016      0.000     10.044      0.000       0.001       0.002\n",
       "==============================================================================\n",
       "Omnibus:                      466.137   Durbin-Watson:                   2.079\n",
       "Prob(Omnibus):                  0.000   Jarque-Bera (JB):             2652.703\n",
       "Skew:                          -1.492   Prob(JB):                         0.00\n",
       "Kurtosis:                       9.182   Cond. No.                     7.10e+04\n",
       "==============================================================================\n",
       "\n",
       "Warnings:\n",
       "[1] Standard Errors assume that the covariance matrix of the errors is correctly specified.\n",
       "[2] The condition number is large, 7.1e+04. This might indicate that there are\n",
       "strong multicollinearity or other numerical problems.\n",
       "\"\"\""
      ]
     },
     "execution_count": 295,
     "metadata": {},
     "output_type": "execute_result"
    }
   ],
   "source": [
    "model_1.summary()"
   ]
  },
  {
   "cell_type": "code",
   "execution_count": 296,
   "metadata": {},
   "outputs": [],
   "source": [
    "# Log Transformations\n",
    "log_n_of_reviews = np.log(pretty_regression[\"n_of_reviews\"])\n",
    "log_price = np.log(pretty_regression[\"price\"])\n",
    "log_n_of_loves = np.log(pretty_regression[\"n_of_loves\"])\n",
    "log_return_on_reviews = np.log(pretty_regression[\"return_on_reviews\"])"
   ]
  },
  {
   "cell_type": "code",
   "execution_count": 297,
   "metadata": {
    "scrolled": true
   },
   "outputs": [
    {
     "data": {
      "image/png": "[encoded data removed]",
      "text/plain": [
       "<Figure size 432x288 with 1 Axes>"
      ]
     },
     "metadata": {},
     "output_type": "display_data"
    }
   ],
   "source": [
    "# Plot new log_transformed variables\n",
    "log_n_of_reviews.plot.hist(normed = True)\n",
    "log_n_of_reviews.plot.kde(linewidth = 3.5)\n",
    "plt.xlim(0, 10)\n",
    "plt.show()"
   ]
  },
  {
   "cell_type": "code",
   "execution_count": 298,
   "metadata": {
    "scrolled": true
   },
   "outputs": [
    {
     "data": {
      "image/png": "[encoded data removed]",
      "text/plain": [
       "<Figure size 432x288 with 1 Axes>"
      ]
     },
     "metadata": {},
     "output_type": "display_data"
    }
   ],
   "source": [
    "# Plot new log_transformed variables\n",
    "log_price.plot.hist(normed = True)\n",
    "log_price.plot.kde(linewidth = 3.5)\n",
    "plt.xlim(2, 6)\n",
    "plt.show()"
   ]
  },
  {
   "cell_type": "code",
   "execution_count": 299,
   "metadata": {
    "scrolled": true
   },
   "outputs": [
    {
     "data": {
      "image/png": "[encoded data removed]",
      "text/plain": [
       "<Figure size 432x288 with 1 Axes>"
      ]
     },
     "metadata": {},
     "output_type": "display_data"
    }
   ],
   "source": [
    "# Plot new log_transformed variables\n",
    "log_n_of_loves.plot.hist(normed = True)\n",
    "log_n_of_loves.plot.kde(linewidth = 3.5)\n",
    "plt.xlim(5, 15)\n",
    "plt.show()"
   ]
  },
  {
   "cell_type": "code",
   "execution_count": 300,
   "metadata": {},
   "outputs": [],
   "source": [
    "# Build new dataframe with transformed variables\n",
    "data_new = pd.DataFrame([])\n",
    "data_new[\"log_n_of_reviews\"]= log_n_of_reviews\n",
    "data_new[\"log_price\"]= log_price\n",
    "data_new[\"log_n_of_loves\"] = log_n_of_loves\n",
    "data_new[\"clean_product\"] = pretty_numbers[\"clean_product\"]\n",
    "data_new[\"category_Moisturizers\"] = pretty_numbers[\"category_Moisturizers\"]\n",
    "data_new[\"category_Blemish_&_Acne_Treatments\"] = pretty_numbers[\"category_Blemish_&_Acne_Treatments\"]\n",
    "data_new[\"category_Face_Serums\"] = pretty_numbers[\"category_Face_Serums\"]\n",
    "data_new[\"category_Beauty_Supplements\"] = pretty_numbers[\"category_Beauty_Supplements\"]\n",
    "\n",
    "data_new[\"review_score\"] = pretty_numbers[\"review_score\"]"
   ]
  },
  {
   "cell_type": "code",
   "execution_count": 206,
   "metadata": {},
   "outputs": [],
   "source": [
    "y = data_new[[\"review_score\"]]\n",
    "X = data_new.drop([\"review_score\"], axis=1)"
   ]
  },
  {
   "cell_type": "code",
   "execution_count": 207,
   "metadata": {},
   "outputs": [
    {
     "data": {
      "text/plain": [
       "0.010264300444774813"
      ]
     },
     "execution_count": 207,
     "metadata": {},
     "output_type": "execute_result"
    }
   ],
   "source": [
    "# Regression and baseline model\n",
    "regression = LinearRegression()\n",
    "crossvalidation = KFold(n_splits=3, shuffle=True, random_state=1)\n",
    "\n",
    "# Cross Validation Score\n",
    "baseline = np.mean(cross_val_score(regression, X, y, scoring=\"r2\", cv=crossvalidation))\n",
    "baseline"
   ]
  },
  {
   "cell_type": "code",
   "execution_count": 208,
   "metadata": {},
   "outputs": [],
   "source": [
    "# Interactions between clean_product and log_price\n",
    "#create new data set for each possibility\n",
    "clean_1 = data_new[data_new[\"clean_product\"] == 1]\n",
    "clean_0 = data_new[data_new[\"clean_product\"] == 0]"
   ]
  },
  {
   "cell_type": "code",
   "execution_count": 209,
   "metadata": {},
   "outputs": [
    {
     "name": "stdout",
     "output_type": "stream",
     "text": [
      "[0.03907784]\n",
      "[0.01906682]\n"
     ]
    }
   ],
   "source": [
    "# Regression\n",
    "clean_regression_0 = LinearRegression()\n",
    "clean_regression_1 = LinearRegression()\n",
    "\n",
    "# Reshape\n",
    "log_price_0 = clean_0[\"log_price\"].values.reshape(-1, 1)\n",
    "log_price_1 = clean_1[\"log_price\"].values.reshape(-1, 1)\n",
    "\n",
    "# Fit\n",
    "clean_regression_0.fit(log_price_0, clean_0[\"review_score\"])\n",
    "clean_regression_1.fit(log_price_1, clean_1[\"review_score\"])\n",
    "\n",
    "# Make predictions using the testing set\n",
    "pred_0 = clean_regression_0.predict(log_price_0)\n",
    "pred_1 = clean_regression_1.predict(log_price_1)\n",
    "\n",
    "# The coefficients\n",
    "print(clean_regression_0.coef_)\n",
    "print(clean_regression_1.coef_)"
   ]
  },
  {
   "cell_type": "code",
   "execution_count": 308,
   "metadata": {},
   "outputs": [
    {
     "data": {
      "image/png": "[encoded data removed]",
      "text/plain": [
       "<Figure size 720x432 with 1 Axes>"
      ]
     },
     "metadata": {},
     "output_type": "display_data"
    }
   ],
   "source": [
    "# Plot outputs\n",
    "plt.figure(figsize=(10,6))\n",
    "\n",
    "plt.scatter(log_price_0, clean_0[\"review_score\"],  color='blue', alpha = 0.3, label = \"clean = \")\n",
    "plt.scatter(log_price_1, clean_1[\"review_score\"],  color='red', alpha = 0.3, label = \"clean = 1\")\n",
    "\n",
    "plt.plot(log_price_0, pred_0,  color='blue', linewidth=2)\n",
    "plt.plot(log_price_1, pred_1,  color='red', linewidth=2)\n",
    "\n",
    "plt.ylabel(\"review_score\")\n",
    "plt.xlabel(\"price\")\n",
    "plt.ylim(2.5, 5)\n",
    "plt.legend();"
   ]
  },
  {
   "cell_type": "code",
   "execution_count": 211,
   "metadata": {},
   "outputs": [
    {
     "data": {
      "text/plain": [
       "0.010494272611424512"
      ]
     },
     "execution_count": 211,
     "metadata": {},
     "output_type": "execute_result"
    }
   ],
   "source": [
    "# Add interaction effect to see how it affects R2\n",
    "regression_int = LinearRegression()\n",
    "crossvalidation = KFold(n_splits=3, shuffle=True, random_state=1)\n",
    "\n",
    "X_interact = X.copy()\n",
    "X_interact[\"price_clean\"] = X[\"log_price\"] * X[\"clean_product\"]\n",
    "\n",
    "interact_price_clean = np.mean(cross_val_score(regression_int, X_interact, y, scoring=\"r2\", cv=crossvalidation))\n",
    "interact_price_clean"
   ]
  },
  {
   "cell_type": "code",
   "execution_count": 212,
   "metadata": {},
   "outputs": [
    {
     "data": {
      "text/html": [
       "<table class=\"simpletable\">\n",
       "<caption>OLS Regression Results</caption>\n",
       "<tr>\n",
       "  <th>Dep. Variable:</th>      <td>review_score</td>   <th>  R-squared:         </th> <td>   0.021</td>\n",
       "</tr>\n",
       "<tr>\n",
       "  <th>Model:</th>                   <td>OLS</td>       <th>  Adj. R-squared:    </th> <td>   0.016</td>\n",
       "</tr>\n",
       "<tr>\n",
       "  <th>Method:</th>             <td>Least Squares</td>  <th>  F-statistic:       </th> <td>   3.965</td>\n",
       "</tr>\n",
       "<tr>\n",
       "  <th>Date:</th>             <td>Fri, 19 Apr 2019</td> <th>  Prob (F-statistic):</th> <td>5.09e-05</td>\n",
       "</tr>\n",
       "<tr>\n",
       "  <th>Time:</th>                 <td>09:41:23</td>     <th>  Log-Likelihood:    </th> <td> -1008.9</td>\n",
       "</tr>\n",
       "<tr>\n",
       "  <th>No. Observations:</th>      <td>  1689</td>      <th>  AIC:               </th> <td>   2038.</td>\n",
       "</tr>\n",
       "<tr>\n",
       "  <th>Df Residuals:</th>          <td>  1679</td>      <th>  BIC:               </th> <td>   2092.</td>\n",
       "</tr>\n",
       "<tr>\n",
       "  <th>Df Model:</th>              <td>     9</td>      <th>                     </th>     <td> </td>   \n",
       "</tr>\n",
       "<tr>\n",
       "  <th>Covariance Type:</th>      <td>nonrobust</td>    <th>                     </th>     <td> </td>   \n",
       "</tr>\n",
       "</table>\n",
       "<table class=\"simpletable\">\n",
       "<tr>\n",
       "                   <td></td>                     <th>coef</th>     <th>std err</th>      <th>t</th>      <th>P>|t|</th>  <th>[0.025</th>    <th>0.975]</th>  \n",
       "</tr>\n",
       "<tr>\n",
       "  <th>const</th>                              <td>    3.8587</td> <td>    0.133</td> <td>   29.070</td> <td> 0.000</td> <td>    3.598</td> <td>    4.119</td>\n",
       "</tr>\n",
       "<tr>\n",
       "  <th>log_n_of_reviews</th>                   <td>   -0.0210</td> <td>    0.011</td> <td>   -1.958</td> <td> 0.050</td> <td>   -0.042</td> <td> 3.77e-05</td>\n",
       "</tr>\n",
       "<tr>\n",
       "  <th>log_price</th>                          <td>    0.0386</td> <td>    0.019</td> <td>    2.047</td> <td> 0.041</td> <td>    0.002</td> <td>    0.076</td>\n",
       "</tr>\n",
       "<tr>\n",
       "  <th>log_n_of_loves</th>                     <td>    0.0265</td> <td>    0.014</td> <td>    1.867</td> <td> 0.062</td> <td>   -0.001</td> <td>    0.054</td>\n",
       "</tr>\n",
       "<tr>\n",
       "  <th>clean_product</th>                      <td>    0.1998</td> <td>    0.210</td> <td>    0.952</td> <td> 0.341</td> <td>   -0.212</td> <td>    0.611</td>\n",
       "</tr>\n",
       "<tr>\n",
       "  <th>category_Moisturizers</th>              <td>    0.0249</td> <td>    0.027</td> <td>    0.915</td> <td> 0.360</td> <td>   -0.029</td> <td>    0.078</td>\n",
       "</tr>\n",
       "<tr>\n",
       "  <th>category_Blemish_&_Acne_Treatments</th> <td>   -0.1323</td> <td>    0.061</td> <td>   -2.180</td> <td> 0.029</td> <td>   -0.251</td> <td>   -0.013</td>\n",
       "</tr>\n",
       "<tr>\n",
       "  <th>category_Face_Serums</th>               <td>    0.1099</td> <td>    0.030</td> <td>    3.681</td> <td> 0.000</td> <td>    0.051</td> <td>    0.168</td>\n",
       "</tr>\n",
       "<tr>\n",
       "  <th>category_Beauty_Supplements</th>        <td>    0.1019</td> <td>    0.047</td> <td>    2.158</td> <td> 0.031</td> <td>    0.009</td> <td>    0.195</td>\n",
       "</tr>\n",
       "<tr>\n",
       "  <th>price_clean</th>                        <td>   -0.0426</td> <td>    0.054</td> <td>   -0.794</td> <td> 0.427</td> <td>   -0.148</td> <td>    0.063</td>\n",
       "</tr>\n",
       "</table>\n",
       "<table class=\"simpletable\">\n",
       "<tr>\n",
       "  <th>Omnibus:</th>       <td>405.784</td> <th>  Durbin-Watson:     </th> <td>   1.760</td>\n",
       "</tr>\n",
       "<tr>\n",
       "  <th>Prob(Omnibus):</th> <td> 0.000</td>  <th>  Jarque-Bera (JB):  </th> <td>1730.471</td>\n",
       "</tr>\n",
       "<tr>\n",
       "  <th>Skew:</th>          <td>-1.090</td>  <th>  Prob(JB):          </th> <td>    0.00</td>\n",
       "</tr>\n",
       "<tr>\n",
       "  <th>Kurtosis:</th>      <td> 7.454</td>  <th>  Cond. No.          </th> <td>    216.</td>\n",
       "</tr>\n",
       "</table><br/><br/>Warnings:<br/>[1] Standard Errors assume that the covariance matrix of the errors is correctly specified."
      ],
      "text/plain": [
       "<class 'statsmodels.iolib.summary.Summary'>\n",
       "\"\"\"\n",
       "                            OLS Regression Results                            \n",
       "==============================================================================\n",
       "Dep. Variable:           review_score   R-squared:                       0.021\n",
       "Model:                            OLS   Adj. R-squared:                  0.016\n",
       "Method:                 Least Squares   F-statistic:                     3.965\n",
       "Date:                Fri, 19 Apr 2019   Prob (F-statistic):           5.09e-05\n",
       "Time:                        09:41:23   Log-Likelihood:                -1008.9\n",
       "No. Observations:                1689   AIC:                             2038.\n",
       "Df Residuals:                    1679   BIC:                             2092.\n",
       "Df Model:                           9                                         \n",
       "Covariance Type:            nonrobust                                         \n",
       "======================================================================================================\n",
       "                                         coef    std err          t      P>|t|      [0.025      0.975]\n",
       "------------------------------------------------------------------------------------------------------\n",
       "const                                  3.8587      0.133     29.070      0.000       3.598       4.119\n",
       "log_n_of_reviews                      -0.0210      0.011     -1.958      0.050      -0.042    3.77e-05\n",
       "log_price                              0.0386      0.019      2.047      0.041       0.002       0.076\n",
       "log_n_of_loves                         0.0265      0.014      1.867      0.062      -0.001       0.054\n",
       "clean_product                          0.1998      0.210      0.952      0.341      -0.212       0.611\n",
       "category_Moisturizers                  0.0249      0.027      0.915      0.360      -0.029       0.078\n",
       "category_Blemish_&_Acne_Treatments    -0.1323      0.061     -2.180      0.029      -0.251      -0.013\n",
       "category_Face_Serums                   0.1099      0.030      3.681      0.000       0.051       0.168\n",
       "category_Beauty_Supplements            0.1019      0.047      2.158      0.031       0.009       0.195\n",
       "price_clean                           -0.0426      0.054     -0.794      0.427      -0.148       0.063\n",
       "==============================================================================\n",
       "Omnibus:                      405.784   Durbin-Watson:                   1.760\n",
       "Prob(Omnibus):                  0.000   Jarque-Bera (JB):             1730.471\n",
       "Skew:                          -1.090   Prob(JB):                         0.00\n",
       "Kurtosis:                       7.454   Cond. No.                         216.\n",
       "==============================================================================\n",
       "\n",
       "Warnings:\n",
       "[1] Standard Errors assume that the covariance matrix of the errors is correctly specified.\n",
       "\"\"\""
      ]
     },
     "execution_count": 212,
     "metadata": {},
     "output_type": "execute_result"
    }
   ],
   "source": [
    "X_interact = sm.add_constant(X_interact)\n",
    "model_int = sm.OLS(y,X_interact)\n",
    "results = model_int.fit()\n",
    "\n",
    "results.summary()"
   ]
  },
  {
   "cell_type": "code",
   "execution_count": 213,
   "metadata": {},
   "outputs": [],
   "source": [
    "# Interactions between category_Moisturizer and log_n_loves\n",
    "#create new data set for each possibility\n",
    "moist_1 = data_new[data_new[\"category_Moisturizers\"] == 1]\n",
    "moist_0 = data_new[data_new[\"category_Moisturizers\"] == 0]"
   ]
  },
  {
   "cell_type": "code",
   "execution_count": 214,
   "metadata": {},
   "outputs": [
    {
     "name": "stdout",
     "output_type": "stream",
     "text": [
      "[-0.01243637]\n",
      "[0.02180656]\n"
     ]
    }
   ],
   "source": [
    "# Regression\n",
    "moist_regression_0 = LinearRegression()\n",
    "moist_regression_1 = LinearRegression()\n",
    "\n",
    "# Reshape\n",
    "log_n_of_loves_0 = moist_0[\"log_n_of_loves\"].values.reshape(-1, 1)\n",
    "log_n_of_loves_1 = moist_1[\"log_n_of_loves\"].values.reshape(-1, 1)\n",
    "\n",
    "# Fit\n",
    "moist_regression_0.fit(log_n_of_loves_0, moist_0[\"review_score\"])\n",
    "moist_regression_1.fit(log_n_of_loves_1, moist_1[\"review_score\"])\n",
    "\n",
    "# Make predictions using the testing set\n",
    "pred_0_moist = moist_regression_0.predict(log_n_of_loves_0)\n",
    "pred_1_moist = moist_regression_1.predict(log_n_of_loves_1)\n",
    "\n",
    "# The coefficients\n",
    "print(moist_regression_0.coef_)\n",
    "print(moist_regression_1.coef_)"
   ]
  },
  {
   "cell_type": "code",
   "execution_count": 309,
   "metadata": {},
   "outputs": [
    {
     "data": {
      "image/png": "[encoded data removed]",
      "text/plain": [
       "<Figure size 720x432 with 1 Axes>"
      ]
     },
     "metadata": {},
     "output_type": "display_data"
    }
   ],
   "source": [
    "# Plot outputs\n",
    "plt.figure(figsize=(10,6))\n",
    "\n",
    "plt.scatter(log_n_of_loves_0, moist_0[\"review_score\"],  color='blue', alpha = 0.3, label = \"moisturizer = 0\")\n",
    "plt.scatter(log_n_of_loves_1, moist_1[\"review_score\"],  color='red', alpha = 0.3, label = \"moisturizer = 1\")\n",
    "\n",
    "plt.plot(log_n_of_loves_0, pred_0_moist,  color='blue', linewidth=2)\n",
    "plt.plot(log_n_of_loves_1, pred_1_moist,  color='red', linewidth=2)\n",
    "\n",
    "plt.ylabel(\"review_score\")\n",
    "plt.xlabel(\"number of loves\")\n",
    "plt.ylim(2.5, 5.1)\n",
    "plt.legend();"
   ]
  },
  {
   "cell_type": "code",
   "execution_count": 216,
   "metadata": {},
   "outputs": [
    {
     "data": {
      "text/plain": [
       "0.010865131279467718"
      ]
     },
     "execution_count": 216,
     "metadata": {},
     "output_type": "execute_result"
    }
   ],
   "source": [
    "# Add interaction effect to see how it affects R2\n",
    "regression_moist = LinearRegression()\n",
    "crossvalidation = KFold(n_splits=3, shuffle=True, random_state=1)\n",
    "\n",
    "X_interact_2 = X.copy()\n",
    "X_interact_2[\"love_moisturizer\"] = X[\"log_n_of_loves\"] * X[\"category_Moisturizers\"]\n",
    "\n",
    "interact_love_moisturizer = np.mean(cross_val_score(regression_moist, X_interact_2, y, scoring=\"r2\", cv=crossvalidation))\n",
    "interact_love_moisturizer"
   ]
  },
  {
   "cell_type": "code",
   "execution_count": 217,
   "metadata": {},
   "outputs": [
    {
     "data": {
      "text/html": [
       "<table class=\"simpletable\">\n",
       "<caption>OLS Regression Results</caption>\n",
       "<tr>\n",
       "  <th>Dep. Variable:</th>      <td>review_score</td>   <th>  R-squared:         </th> <td>   0.022</td>\n",
       "</tr>\n",
       "<tr>\n",
       "  <th>Model:</th>                   <td>OLS</td>       <th>  Adj. R-squared:    </th> <td>   0.017</td>\n",
       "</tr>\n",
       "<tr>\n",
       "  <th>Method:</th>             <td>Least Squares</td>  <th>  F-statistic:       </th> <td>   4.176</td>\n",
       "</tr>\n",
       "<tr>\n",
       "  <th>Date:</th>             <td>Fri, 19 Apr 2019</td> <th>  Prob (F-statistic):</th> <td>2.38e-05</td>\n",
       "</tr>\n",
       "<tr>\n",
       "  <th>Time:</th>                 <td>09:41:30</td>     <th>  Log-Likelihood:    </th> <td> -1008.0</td>\n",
       "</tr>\n",
       "<tr>\n",
       "  <th>No. Observations:</th>      <td>  1689</td>      <th>  AIC:               </th> <td>   2036.</td>\n",
       "</tr>\n",
       "<tr>\n",
       "  <th>Df Residuals:</th>          <td>  1679</td>      <th>  BIC:               </th> <td>   2090.</td>\n",
       "</tr>\n",
       "<tr>\n",
       "  <th>Df Model:</th>              <td>     9</td>      <th>                     </th>     <td> </td>   \n",
       "</tr>\n",
       "<tr>\n",
       "  <th>Covariance Type:</th>      <td>nonrobust</td>    <th>                     </th>     <td> </td>   \n",
       "</tr>\n",
       "</table>\n",
       "<table class=\"simpletable\">\n",
       "<tr>\n",
       "                   <td></td>                     <th>coef</th>     <th>std err</th>      <th>t</th>      <th>P>|t|</th>  <th>[0.025</th>    <th>0.975]</th>  \n",
       "</tr>\n",
       "<tr>\n",
       "  <th>const</th>                              <td>    3.9445</td> <td>    0.134</td> <td>   29.355</td> <td> 0.000</td> <td>    3.681</td> <td>    4.208</td>\n",
       "</tr>\n",
       "<tr>\n",
       "  <th>log_n_of_reviews</th>                   <td>   -0.0210</td> <td>    0.011</td> <td>   -1.957</td> <td> 0.051</td> <td>   -0.042</td> <td> 4.91e-05</td>\n",
       "</tr>\n",
       "<tr>\n",
       "  <th>log_price</th>                          <td>    0.0334</td> <td>    0.018</td> <td>    1.879</td> <td> 0.060</td> <td>   -0.001</td> <td>    0.068</td>\n",
       "</tr>\n",
       "<tr>\n",
       "  <th>log_n_of_loves</th>                     <td>    0.0190</td> <td>    0.015</td> <td>    1.291</td> <td> 0.197</td> <td>   -0.010</td> <td>    0.048</td>\n",
       "</tr>\n",
       "<tr>\n",
       "  <th>clean_product</th>                      <td>    0.0349</td> <td>    0.028</td> <td>    1.258</td> <td> 0.208</td> <td>   -0.019</td> <td>    0.089</td>\n",
       "</tr>\n",
       "<tr>\n",
       "  <th>category_Moisturizers</th>              <td>   -0.2188</td> <td>    0.157</td> <td>   -1.398</td> <td> 0.162</td> <td>   -0.526</td> <td>    0.088</td>\n",
       "</tr>\n",
       "<tr>\n",
       "  <th>category_Blemish_&_Acne_Treatments</th> <td>   -0.1306</td> <td>    0.061</td> <td>   -2.153</td> <td> 0.031</td> <td>   -0.249</td> <td>   -0.012</td>\n",
       "</tr>\n",
       "<tr>\n",
       "  <th>category_Face_Serums</th>               <td>    0.1066</td> <td>    0.030</td> <td>    3.574</td> <td> 0.000</td> <td>    0.048</td> <td>    0.165</td>\n",
       "</tr>\n",
       "<tr>\n",
       "  <th>category_Beauty_Supplements</th>        <td>    0.0930</td> <td>    0.047</td> <td>    1.965</td> <td> 0.050</td> <td>    0.000</td> <td>    0.186</td>\n",
       "</tr>\n",
       "<tr>\n",
       "  <th>love_moisturizer</th>                   <td>    0.0287</td> <td>    0.018</td> <td>    1.576</td> <td> 0.115</td> <td>   -0.007</td> <td>    0.064</td>\n",
       "</tr>\n",
       "</table>\n",
       "<table class=\"simpletable\">\n",
       "<tr>\n",
       "  <th>Omnibus:</th>       <td>406.869</td> <th>  Durbin-Watson:     </th> <td>   1.757</td>\n",
       "</tr>\n",
       "<tr>\n",
       "  <th>Prob(Omnibus):</th> <td> 0.000</td>  <th>  Jarque-Bera (JB):  </th> <td>1720.130</td>\n",
       "</tr>\n",
       "<tr>\n",
       "  <th>Skew:</th>          <td>-1.096</td>  <th>  Prob(JB):          </th> <td>    0.00</td>\n",
       "</tr>\n",
       "<tr>\n",
       "  <th>Kurtosis:</th>      <td> 7.431</td>  <th>  Cond. No.          </th> <td>    170.</td>\n",
       "</tr>\n",
       "</table><br/><br/>Warnings:<br/>[1] Standard Errors assume that the covariance matrix of the errors is correctly specified."
      ],
      "text/plain": [
       "<class 'statsmodels.iolib.summary.Summary'>\n",
       "\"\"\"\n",
       "                            OLS Regression Results                            \n",
       "==============================================================================\n",
       "Dep. Variable:           review_score   R-squared:                       0.022\n",
       "Model:                            OLS   Adj. R-squared:                  0.017\n",
       "Method:                 Least Squares   F-statistic:                     4.176\n",
       "Date:                Fri, 19 Apr 2019   Prob (F-statistic):           2.38e-05\n",
       "Time:                        09:41:30   Log-Likelihood:                -1008.0\n",
       "No. Observations:                1689   AIC:                             2036.\n",
       "Df Residuals:                    1679   BIC:                             2090.\n",
       "Df Model:                           9                                         \n",
       "Covariance Type:            nonrobust                                         \n",
       "======================================================================================================\n",
       "                                         coef    std err          t      P>|t|      [0.025      0.975]\n",
       "------------------------------------------------------------------------------------------------------\n",
       "const                                  3.9445      0.134     29.355      0.000       3.681       4.208\n",
       "log_n_of_reviews                      -0.0210      0.011     -1.957      0.051      -0.042    4.91e-05\n",
       "log_price                              0.0334      0.018      1.879      0.060      -0.001       0.068\n",
       "log_n_of_loves                         0.0190      0.015      1.291      0.197      -0.010       0.048\n",
       "clean_product                          0.0349      0.028      1.258      0.208      -0.019       0.089\n",
       "category_Moisturizers                 -0.2188      0.157     -1.398      0.162      -0.526       0.088\n",
       "category_Blemish_&_Acne_Treatments    -0.1306      0.061     -2.153      0.031      -0.249      -0.012\n",
       "category_Face_Serums                   0.1066      0.030      3.574      0.000       0.048       0.165\n",
       "category_Beauty_Supplements            0.0930      0.047      1.965      0.050       0.000       0.186\n",
       "love_moisturizer                       0.0287      0.018      1.576      0.115      -0.007       0.064\n",
       "==============================================================================\n",
       "Omnibus:                      406.869   Durbin-Watson:                   1.757\n",
       "Prob(Omnibus):                  0.000   Jarque-Bera (JB):             1720.130\n",
       "Skew:                          -1.096   Prob(JB):                         0.00\n",
       "Kurtosis:                       7.431   Cond. No.                         170.\n",
       "==============================================================================\n",
       "\n",
       "Warnings:\n",
       "[1] Standard Errors assume that the covariance matrix of the errors is correctly specified.\n",
       "\"\"\""
      ]
     },
     "execution_count": 217,
     "metadata": {},
     "output_type": "execute_result"
    }
   ],
   "source": [
    "X_interact_2 = sm.add_constant(X_interact_2)\n",
    "model_moist = sm.OLS(y,X_interact_2)\n",
    "results = model_moist.fit()\n",
    "\n",
    "results.summary()"
   ]
  },
  {
   "cell_type": "code",
   "execution_count": 248,
   "metadata": {},
   "outputs": [],
   "source": [
    "# Build last dataframe with transformed variables\n",
    "data_last = pd.DataFrame([])\n",
    "data_last[\"log_n_of_reviews\"]= log_n_of_reviews\n",
    "data_last[\"log_price\"]= log_price\n",
    "data_last[\"log_n_of_loves\"] = log_n_of_loves\n",
    "data_last[\"clean_product\"] = pretty_numbers[\"clean_product\"]\n",
    "data_last[\"category_Moisturizers\"] = pretty_numbers[\"category_Moisturizers\"]\n",
    "data_last[\"category_Blemish_Acne_Treatments\"] = pretty_numbers[\"category_Blemish_&_Acne_Treatments\"]\n",
    "data_last[\"category_Face_Serums\"] = pretty_numbers[\"category_Face_Serums\"]\n",
    "data_last[\"category_Beauty_Supplements\"] = pretty_numbers[\"category_Beauty_Supplements\"]\n",
    "data_last[\"category_Anti_Aging\"] = pretty_numbers[\"category_Anti-Aging\"]\n",
    "data_last[\"category_Eye_Creams_Treatments\"] = pretty_numbers[\"category_Eye_Creams_&_Treatments\"]\n",
    "data_last[\"category_Eye_Masks\"] = pretty_numbers[\"category_Eye_Masks\"]\n",
    "data_last[\"category_Mists_Essences\"] = pretty_numbers[\"category_Mists_&_Essences\"]\n",
    "data_last[\"category_Face_Masks\"] = pretty_numbers[\"category_Face_Masks\"]\n",
    "data_last[\"category_Face_Oils\"] = pretty_numbers[\"category_Face_Oils\"]\n",
    "data_last[\"category_Face_Wash_Cleansers\"] = pretty_numbers[\"category_Face_Wash_&_Cleansers\"]\n",
    "data_last[\"category_Decollete_Neck_Creams\"] = pretty_numbers[\"category_Decollete_&_Neck_Creams\"]\n",
    "data_last[\"category_Night_Creams\"] = pretty_numbers[\"category_Night_Creams\"]\n",
    "data_last[\"category_Sheet_Masks\"] = pretty_numbers[\"category_Sheet_Masks\"]\n",
    "data_last[\"category_Toners\"] = pretty_numbers[\"category_Toners\"]\n",
    "data_last[\"review_score\"] = pretty_numbers[\"review_score\"]"
   ]
  },
  {
   "cell_type": "code",
   "execution_count": 249,
   "metadata": {},
   "outputs": [
    {
     "data": {
      "text/html": [
       "<div>\n",
       "<style scoped>\n",
       "    .dataframe tbody tr th:only-of-type {\n",
       "        vertical-align: middle;\n",
       "    }\n",
       "\n",
       "    .dataframe tbody tr th {\n",
       "        vertical-align: top;\n",
       "    }\n",
       "\n",
       "    .dataframe thead th {\n",
       "        text-align: right;\n",
       "    }\n",
       "</style>\n",
       "<table border=\"1\" class=\"dataframe\">\n",
       "  <thead>\n",
       "    <tr style=\"text-align: right;\">\n",
       "      <th></th>\n",
       "      <th>log_n_of_reviews</th>\n",
       "      <th>log_price</th>\n",
       "      <th>log_n_of_loves</th>\n",
       "      <th>clean_product</th>\n",
       "      <th>category_Moisturizers</th>\n",
       "      <th>category_Blemish_Acne_Treatments</th>\n",
       "      <th>category_Face_Serums</th>\n",
       "      <th>category_Beauty_Supplements</th>\n",
       "      <th>category_Anti_Aging</th>\n",
       "      <th>category_Eye_Creams_Treatments</th>\n",
       "      <th>category_Eye_Masks</th>\n",
       "      <th>category_Mists_Essences</th>\n",
       "      <th>category_Face_Masks</th>\n",
       "      <th>category_Face_Oils</th>\n",
       "      <th>category_Face_Wash_Cleansers</th>\n",
       "      <th>category_Decollete_Neck_Creams</th>\n",
       "      <th>category_Night_Creams</th>\n",
       "      <th>category_Sheet_Masks</th>\n",
       "      <th>category_Toners</th>\n",
       "      <th>review_score</th>\n",
       "    </tr>\n",
       "  </thead>\n",
       "  <tbody>\n",
       "    <tr>\n",
       "      <th>0</th>\n",
       "      <td>6.907755</td>\n",
       "      <td>4.219508</td>\n",
       "      <td>11.820469</td>\n",
       "      <td>1</td>\n",
       "      <td>1</td>\n",
       "      <td>0</td>\n",
       "      <td>0</td>\n",
       "      <td>0</td>\n",
       "      <td>0</td>\n",
       "      <td>0</td>\n",
       "      <td>0</td>\n",
       "      <td>0</td>\n",
       "      <td>0</td>\n",
       "      <td>0</td>\n",
       "      <td>0</td>\n",
       "      <td>0</td>\n",
       "      <td>0</td>\n",
       "      <td>0</td>\n",
       "      <td>0</td>\n",
       "      <td>4.2097</td>\n",
       "    </tr>\n",
       "    <tr>\n",
       "      <th>1</th>\n",
       "      <td>6.200509</td>\n",
       "      <td>5.164786</td>\n",
       "      <td>11.029196</td>\n",
       "      <td>0</td>\n",
       "      <td>1</td>\n",
       "      <td>0</td>\n",
       "      <td>0</td>\n",
       "      <td>0</td>\n",
       "      <td>0</td>\n",
       "      <td>0</td>\n",
       "      <td>0</td>\n",
       "      <td>0</td>\n",
       "      <td>0</td>\n",
       "      <td>0</td>\n",
       "      <td>0</td>\n",
       "      <td>0</td>\n",
       "      <td>0</td>\n",
       "      <td>0</td>\n",
       "      <td>0</td>\n",
       "      <td>4.0974</td>\n",
       "    </tr>\n",
       "    <tr>\n",
       "      <th>2</th>\n",
       "      <td>7.600902</td>\n",
       "      <td>3.663562</td>\n",
       "      <td>12.146264</td>\n",
       "      <td>0</td>\n",
       "      <td>0</td>\n",
       "      <td>0</td>\n",
       "      <td>0</td>\n",
       "      <td>0</td>\n",
       "      <td>0</td>\n",
       "      <td>0</td>\n",
       "      <td>0</td>\n",
       "      <td>0</td>\n",
       "      <td>0</td>\n",
       "      <td>0</td>\n",
       "      <td>0</td>\n",
       "      <td>0</td>\n",
       "      <td>0</td>\n",
       "      <td>0</td>\n",
       "      <td>0</td>\n",
       "      <td>4.0403</td>\n",
       "    </tr>\n",
       "    <tr>\n",
       "      <th>3</th>\n",
       "      <td>6.907755</td>\n",
       "      <td>4.219508</td>\n",
       "      <td>11.913867</td>\n",
       "      <td>1</td>\n",
       "      <td>1</td>\n",
       "      <td>0</td>\n",
       "      <td>0</td>\n",
       "      <td>0</td>\n",
       "      <td>0</td>\n",
       "      <td>0</td>\n",
       "      <td>0</td>\n",
       "      <td>0</td>\n",
       "      <td>0</td>\n",
       "      <td>0</td>\n",
       "      <td>0</td>\n",
       "      <td>0</td>\n",
       "      <td>0</td>\n",
       "      <td>0</td>\n",
       "      <td>0</td>\n",
       "      <td>4.2447</td>\n",
       "    </tr>\n",
       "    <tr>\n",
       "      <th>4</th>\n",
       "      <td>6.669498</td>\n",
       "      <td>5.187386</td>\n",
       "      <td>11.140121</td>\n",
       "      <td>0</td>\n",
       "      <td>0</td>\n",
       "      <td>0</td>\n",
       "      <td>0</td>\n",
       "      <td>0</td>\n",
       "      <td>0</td>\n",
       "      <td>0</td>\n",
       "      <td>0</td>\n",
       "      <td>1</td>\n",
       "      <td>0</td>\n",
       "      <td>0</td>\n",
       "      <td>0</td>\n",
       "      <td>0</td>\n",
       "      <td>0</td>\n",
       "      <td>0</td>\n",
       "      <td>0</td>\n",
       "      <td>4.0622</td>\n",
       "    </tr>\n",
       "  </tbody>\n",
       "</table>\n",
       "</div>"
      ],
      "text/plain": [
       "   log_n_of_reviews  log_price  log_n_of_loves  clean_product  \\\n",
       "0          6.907755   4.219508       11.820469              1   \n",
       "1          6.200509   5.164786       11.029196              0   \n",
       "2          7.600902   3.663562       12.146264              0   \n",
       "3          6.907755   4.219508       11.913867              1   \n",
       "4          6.669498   5.187386       11.140121              0   \n",
       "\n",
       "   category_Moisturizers  category_Blemish_Acne_Treatments  \\\n",
       "0                      1                                 0   \n",
       "1                      1                                 0   \n",
       "2                      0                                 0   \n",
       "3                      1                                 0   \n",
       "4                      0                                 0   \n",
       "\n",
       "   category_Face_Serums  category_Beauty_Supplements  category_Anti_Aging  \\\n",
       "0                     0                            0                    0   \n",
       "1                     0                            0                    0   \n",
       "2                     0                            0                    0   \n",
       "3                     0                            0                    0   \n",
       "4                     0                            0                    0   \n",
       "\n",
       "   category_Eye_Creams_Treatments  category_Eye_Masks  \\\n",
       "0                               0                   0   \n",
       "1                               0                   0   \n",
       "2                               0                   0   \n",
       "3                               0                   0   \n",
       "4                               0                   0   \n",
       "\n",
       "   category_Mists_Essences  category_Face_Masks  category_Face_Oils  \\\n",
       "0                        0                    0                   0   \n",
       "1                        0                    0                   0   \n",
       "2                        0                    0                   0   \n",
       "3                        0                    0                   0   \n",
       "4                        1                    0                   0   \n",
       "\n",
       "   category_Face_Wash_Cleansers  category_Decollete_Neck_Creams  \\\n",
       "0                             0                               0   \n",
       "1                             0                               0   \n",
       "2                             0                               0   \n",
       "3                             0                               0   \n",
       "4                             0                               0   \n",
       "\n",
       "   category_Night_Creams  category_Sheet_Masks  category_Toners  review_score  \n",
       "0                      0                     0                0        4.2097  \n",
       "1                      0                     0                0        4.0974  \n",
       "2                      0                     0                0        4.0403  \n",
       "3                      0                     0                0        4.2447  \n",
       "4                      0                     0                0        4.0622  "
      ]
     },
     "execution_count": 249,
     "metadata": {},
     "output_type": "execute_result"
    }
   ],
   "source": [
    "data_last.head()"
   ]
  },
  {
   "cell_type": "code",
   "execution_count": 230,
   "metadata": {},
   "outputs": [],
   "source": [
    "y_last = data_last[[\"review_score\"]]\n",
    "X_last = data_last.drop([\"review_score\"], axis=1)"
   ]
  },
  {
   "cell_type": "code",
   "execution_count": 231,
   "metadata": {},
   "outputs": [],
   "source": [
    "# Split X and y into X_\n",
    "\n",
    "X_train_last, X_test_last, y_train_last, y_test_last = train_test_split(X_last, y_last, test_size=0.25, random_state=1)\n",
    "\n",
    "\n"
   ]
  },
  {
   "cell_type": "code",
   "execution_count": 232,
   "metadata": {},
   "outputs": [
    {
     "data": {
      "text/plain": [
       "LinearRegression(copy_X=True, fit_intercept=True, n_jobs=None,\n",
       "         normalize=False)"
      ]
     },
     "execution_count": 232,
     "metadata": {},
     "output_type": "execute_result"
    }
   ],
   "source": [
    "# instantiate and fit\n",
    "lmlast = LinearRegression()\n",
    "lmlast.fit(X_train_last, y_train_last)"
   ]
  },
  {
   "cell_type": "code",
   "execution_count": 233,
   "metadata": {},
   "outputs": [
    {
     "name": "stdout",
     "output_type": "stream",
     "text": [
      "The coefficient for log_n_of_reviews is -0.018043150960912566\n",
      "The coefficient for log_price is 0.049016252525889974\n",
      "The coefficient for log_n_of_loves is 0.02381105775861285\n",
      "The coefficient for clean_product is 0.042485676590809505\n",
      "The coefficient for category_Moisturizers is -0.03031024516795251\n",
      "The coefficient for category_Blemish_&_Acne_Treatments is -0.17787815286493128\n",
      "The coefficient for category_Face_Serums is 0.052723278991213963\n",
      "The coefficient for category_Beauty_Supplements is 0.016819462236687767\n",
      "The coefficient for category_Anti-Aging is -0.11621074282098885\n",
      "The coefficient for category_Eye_Creams_&_Treatments is -0.3557499535790558\n",
      "The coefficient for category_Eye_Masks is -0.2242903672980028\n",
      "The coefficient for category_Mists_&_Essences is 0.07947037765974166\n",
      "The coefficient for category_Face_Masks is 0.044032078429094255\n",
      "The coefficient for category_Face_Oils is 0.17482455011450643\n",
      "The coefficient for category_Face_Wash_&_Cleansers is 0.12372668467805317\n",
      "The coefficient for category_Decollete_&_Neck_Creams is -0.38412308554387153\n",
      "The coefficient for category_Night_Creams is 0.06897276329935001\n",
      "The coefficient for category_Sheet_Masks is 0.0\n",
      "The coefficient for category_Toners is -0.0016543393524061953\n",
      "The Intercept is:  [3.88280452]\n",
      "The R Squared:  0.11341852342305048\n"
     ]
    }
   ],
   "source": [
    "for idx, col_name in enumerate(X_train_last.columns):\n",
    "    print(\"The coefficient for {} is {}\".format(col_name, lmlast.coef_[0][idx]))\n",
    "print(\"The Intercept is: \", lmlast.intercept_)\n",
    "print(\"The R Squared: \", lmlast.score(X_train_last, y_train_last))"
   ]
  },
  {
   "cell_type": "code",
   "execution_count": 238,
   "metadata": {},
   "outputs": [
    {
     "data": {
      "text/plain": [
       "0.16235853436764208"
      ]
     },
     "execution_count": 238,
     "metadata": {},
     "output_type": "execute_result"
    }
   ],
   "source": [
    "# Mean squared error\n",
    "y_predict_last = lmlast.predict(X_test_last)\n",
    "\n",
    "regression_model_mse = mean_squared_error(y_predict_last, y_test_last)\n",
    "\n",
    "regression_model_mse"
   ]
  },
  {
   "cell_type": "code",
   "execution_count": 235,
   "metadata": {},
   "outputs": [
    {
     "data": {
      "text/plain": [
       "0.4029373826882312"
      ]
     },
     "execution_count": 235,
     "metadata": {},
     "output_type": "execute_result"
    }
   ],
   "source": [
    "# Square root of MSE\n",
    "math.sqrt(regression_model_mse)"
   ]
  },
  {
   "cell_type": "code",
   "execution_count": 236,
   "metadata": {
    "scrolled": true
   },
   "outputs": [
    {
     "data": {
      "text/plain": [
       "<matplotlib.axes._subplots.AxesSubplot at 0x1c27c0a780>"
      ]
     },
     "execution_count": 236,
     "metadata": {},
     "output_type": "execute_result"
    },
    {
     "data": {
      "image/png": "[encoded data removed]",
      "text/plain": [
       "<Figure size 432x288 with 1 Axes>"
      ]
     },
     "metadata": {},
     "output_type": "display_data"
    }
   ],
   "source": [
    "sns.residplot(y_predict_last, y_test_last)"
   ]
  },
  {
   "cell_type": "code",
   "execution_count": 250,
   "metadata": {},
   "outputs": [],
   "source": [
    "# Statsmodels\n",
    "# Multiple Regression\n",
    "y_last_stats = data_last[\"review_score\"]\n",
    "x_last_stats = data_last[[\"log_n_of_reviews\", \"log_price\", \"log_n_of_loves\", \"category_Moisturizers\",  \"category_Blemish_Acne_Treatments\",\n",
    "                            \"category_Beauty_Supplements\", \"category_Anti_Aging\", \"category_Eye_Creams_Treatments\",\n",
    "                            \"category_Eye_Masks\", \"category_Mists_Essences\", \"category_Face_Masks\", \"category_Face_Oils\",\n",
    "                            \"category_Face_Wash_Cleansers\", \"category_Decollete_Neck_Creams\", \"category_Night_Creams\",\n",
    "                             \"category_Sheet_Masks\", \"category_Toners\"]] \n",
    "                        \n",
    "f_last ='''review_score~log_n_of_reviews+log_price+log_n_of_loves+clean_product+category_Moisturizers+\n",
    "        category_Blemish_Acne_Treatments+category_Beauty_Supplements+category_Anti_Aging+\n",
    "            category_Eye_Creams_Treatments+category_Eye_Masks+category_Mists_Essences+category_Face_Masks+\n",
    "            category_Face_Oils+category_Face_Wash_Cleansers+category_Decollete_Neck_Creams+category_Night_Creams+\n",
    "            category_Sheet_Masks+category_Toners'''\n",
    "\n",
    "model_super_last = smf.ols(formula = f_last, data = data_last).fit()"
   ]
  },
  {
   "cell_type": "code",
   "execution_count": 251,
   "metadata": {},
   "outputs": [
    {
     "data": {
      "text/html": [
       "<table class=\"simpletable\">\n",
       "<caption>OLS Regression Results</caption>\n",
       "<tr>\n",
       "  <th>Dep. Variable:</th>      <td>review_score</td>   <th>  R-squared:         </th> <td>   0.108</td>\n",
       "</tr>\n",
       "<tr>\n",
       "  <th>Model:</th>                   <td>OLS</td>       <th>  Adj. R-squared:    </th> <td>   0.099</td>\n",
       "</tr>\n",
       "<tr>\n",
       "  <th>Method:</th>             <td>Least Squares</td>  <th>  F-statistic:       </th> <td>   11.26</td>\n",
       "</tr>\n",
       "<tr>\n",
       "  <th>Date:</th>             <td>Fri, 19 Apr 2019</td> <th>  Prob (F-statistic):</th> <td>3.49e-31</td>\n",
       "</tr>\n",
       "<tr>\n",
       "  <th>Time:</th>                 <td>10:18:51</td>     <th>  Log-Likelihood:    </th> <td> -929.92</td>\n",
       "</tr>\n",
       "<tr>\n",
       "  <th>No. Observations:</th>      <td>  1689</td>      <th>  AIC:               </th> <td>   1898.</td>\n",
       "</tr>\n",
       "<tr>\n",
       "  <th>Df Residuals:</th>          <td>  1670</td>      <th>  BIC:               </th> <td>   2001.</td>\n",
       "</tr>\n",
       "<tr>\n",
       "  <th>Df Model:</th>              <td>    18</td>      <th>                     </th>     <td> </td>   \n",
       "</tr>\n",
       "<tr>\n",
       "  <th>Covariance Type:</th>      <td>nonrobust</td>    <th>                     </th>     <td> </td>   \n",
       "</tr>\n",
       "</table>\n",
       "<table class=\"simpletable\">\n",
       "<tr>\n",
       "                  <td></td>                    <th>coef</th>     <th>std err</th>      <th>t</th>      <th>P>|t|</th>  <th>[0.025</th>    <th>0.975]</th>  \n",
       "</tr>\n",
       "<tr>\n",
       "  <th>Intercept</th>                        <td>    4.0101</td> <td>    0.125</td> <td>   32.086</td> <td> 0.000</td> <td>    3.765</td> <td>    4.255</td>\n",
       "</tr>\n",
       "<tr>\n",
       "  <th>log_n_of_reviews</th>                 <td>   -0.0194</td> <td>    0.010</td> <td>   -1.880</td> <td> 0.060</td> <td>   -0.040</td> <td>    0.001</td>\n",
       "</tr>\n",
       "<tr>\n",
       "  <th>log_price</th>                        <td>    0.0413</td> <td>    0.017</td> <td>    2.365</td> <td> 0.018</td> <td>    0.007</td> <td>    0.076</td>\n",
       "</tr>\n",
       "<tr>\n",
       "  <th>log_n_of_loves</th>                   <td>    0.0182</td> <td>    0.014</td> <td>    1.337</td> <td> 0.181</td> <td>   -0.009</td> <td>    0.045</td>\n",
       "</tr>\n",
       "<tr>\n",
       "  <th>clean_product</th>                    <td>    0.0067</td> <td>    0.027</td> <td>    0.251</td> <td> 0.802</td> <td>   -0.046</td> <td>    0.059</td>\n",
       "</tr>\n",
       "<tr>\n",
       "  <th>category_Moisturizers</th>            <td>   -0.0699</td> <td>    0.028</td> <td>   -2.471</td> <td> 0.014</td> <td>   -0.125</td> <td>   -0.014</td>\n",
       "</tr>\n",
       "<tr>\n",
       "  <th>category_Blemish_Acne_Treatments</th> <td>   -0.2198</td> <td>    0.059</td> <td>   -3.714</td> <td> 0.000</td> <td>   -0.336</td> <td>   -0.104</td>\n",
       "</tr>\n",
       "<tr>\n",
       "  <th>category_Beauty_Supplements</th>      <td>    0.0011</td> <td>    0.046</td> <td>    0.024</td> <td> 0.981</td> <td>   -0.090</td> <td>    0.092</td>\n",
       "</tr>\n",
       "<tr>\n",
       "  <th>category_Anti_Aging</th>              <td>   -0.1517</td> <td>    0.087</td> <td>   -1.747</td> <td> 0.081</td> <td>   -0.322</td> <td>    0.019</td>\n",
       "</tr>\n",
       "<tr>\n",
       "  <th>category_Eye_Creams_Treatments</th>   <td>   -0.3877</td> <td>    0.036</td> <td>  -10.887</td> <td> 0.000</td> <td>   -0.457</td> <td>   -0.318</td>\n",
       "</tr>\n",
       "<tr>\n",
       "  <th>category_Eye_Masks</th>               <td>   -0.3090</td> <td>    0.097</td> <td>   -3.186</td> <td> 0.001</td> <td>   -0.499</td> <td>   -0.119</td>\n",
       "</tr>\n",
       "<tr>\n",
       "  <th>category_Mists_Essences</th>          <td>    0.0142</td> <td>    0.049</td> <td>    0.289</td> <td> 0.772</td> <td>   -0.082</td> <td>    0.111</td>\n",
       "</tr>\n",
       "<tr>\n",
       "  <th>category_Face_Masks</th>              <td>    0.0117</td> <td>    0.072</td> <td>    0.162</td> <td> 0.871</td> <td>   -0.130</td> <td>    0.154</td>\n",
       "</tr>\n",
       "<tr>\n",
       "  <th>category_Face_Oils</th>               <td>    0.1370</td> <td>    0.045</td> <td>    3.061</td> <td> 0.002</td> <td>    0.049</td> <td>    0.225</td>\n",
       "</tr>\n",
       "<tr>\n",
       "  <th>category_Face_Wash_Cleansers</th>     <td>    0.0591</td> <td>    0.094</td> <td>    0.626</td> <td> 0.531</td> <td>   -0.126</td> <td>    0.244</td>\n",
       "</tr>\n",
       "<tr>\n",
       "  <th>category_Decollete_Neck_Creams</th>   <td>   -0.4337</td> <td>    0.119</td> <td>   -3.654</td> <td> 0.000</td> <td>   -0.667</td> <td>   -0.201</td>\n",
       "</tr>\n",
       "<tr>\n",
       "  <th>category_Night_Creams</th>            <td>    0.0577</td> <td>    0.052</td> <td>    1.101</td> <td> 0.271</td> <td>   -0.045</td> <td>    0.160</td>\n",
       "</tr>\n",
       "<tr>\n",
       "  <th>category_Sheet_Masks</th>             <td>   -0.1656</td> <td>    0.424</td> <td>   -0.390</td> <td> 0.696</td> <td>   -0.998</td> <td>    0.667</td>\n",
       "</tr>\n",
       "<tr>\n",
       "  <th>category_Toners</th>                  <td>   -0.0039</td> <td>    0.161</td> <td>   -0.024</td> <td> 0.981</td> <td>   -0.319</td> <td>    0.311</td>\n",
       "</tr>\n",
       "</table>\n",
       "<table class=\"simpletable\">\n",
       "<tr>\n",
       "  <th>Omnibus:</th>       <td>462.111</td> <th>  Durbin-Watson:     </th> <td>   1.847</td>\n",
       "</tr>\n",
       "<tr>\n",
       "  <th>Prob(Omnibus):</th> <td> 0.000</td>  <th>  Jarque-Bera (JB):  </th> <td>2451.947</td>\n",
       "</tr>\n",
       "<tr>\n",
       "  <th>Skew:</th>          <td>-1.179</td>  <th>  Prob(JB):          </th> <td>    0.00</td>\n",
       "</tr>\n",
       "<tr>\n",
       "  <th>Kurtosis:</th>      <td> 8.411</td>  <th>  Cond. No.          </th> <td>    434.</td>\n",
       "</tr>\n",
       "</table><br/><br/>Warnings:<br/>[1] Standard Errors assume that the covariance matrix of the errors is correctly specified."
      ],
      "text/plain": [
       "<class 'statsmodels.iolib.summary.Summary'>\n",
       "\"\"\"\n",
       "                            OLS Regression Results                            \n",
       "==============================================================================\n",
       "Dep. Variable:           review_score   R-squared:                       0.108\n",
       "Model:                            OLS   Adj. R-squared:                  0.099\n",
       "Method:                 Least Squares   F-statistic:                     11.26\n",
       "Date:                Fri, 19 Apr 2019   Prob (F-statistic):           3.49e-31\n",
       "Time:                        10:18:51   Log-Likelihood:                -929.92\n",
       "No. Observations:                1689   AIC:                             1898.\n",
       "Df Residuals:                    1670   BIC:                             2001.\n",
       "Df Model:                          18                                         \n",
       "Covariance Type:            nonrobust                                         \n",
       "====================================================================================================\n",
       "                                       coef    std err          t      P>|t|      [0.025      0.975]\n",
       "----------------------------------------------------------------------------------------------------\n",
       "Intercept                            4.0101      0.125     32.086      0.000       3.765       4.255\n",
       "log_n_of_reviews                    -0.0194      0.010     -1.880      0.060      -0.040       0.001\n",
       "log_price                            0.0413      0.017      2.365      0.018       0.007       0.076\n",
       "log_n_of_loves                       0.0182      0.014      1.337      0.181      -0.009       0.045\n",
       "clean_product                        0.0067      0.027      0.251      0.802      -0.046       0.059\n",
       "category_Moisturizers               -0.0699      0.028     -2.471      0.014      -0.125      -0.014\n",
       "category_Blemish_Acne_Treatments    -0.2198      0.059     -3.714      0.000      -0.336      -0.104\n",
       "category_Beauty_Supplements          0.0011      0.046      0.024      0.981      -0.090       0.092\n",
       "category_Anti_Aging                 -0.1517      0.087     -1.747      0.081      -0.322       0.019\n",
       "category_Eye_Creams_Treatments      -0.3877      0.036    -10.887      0.000      -0.457      -0.318\n",
       "category_Eye_Masks                  -0.3090      0.097     -3.186      0.001      -0.499      -0.119\n",
       "category_Mists_Essences              0.0142      0.049      0.289      0.772      -0.082       0.111\n",
       "category_Face_Masks                  0.0117      0.072      0.162      0.871      -0.130       0.154\n",
       "category_Face_Oils                   0.1370      0.045      3.061      0.002       0.049       0.225\n",
       "category_Face_Wash_Cleansers         0.0591      0.094      0.626      0.531      -0.126       0.244\n",
       "category_Decollete_Neck_Creams      -0.4337      0.119     -3.654      0.000      -0.667      -0.201\n",
       "category_Night_Creams                0.0577      0.052      1.101      0.271      -0.045       0.160\n",
       "category_Sheet_Masks                -0.1656      0.424     -0.390      0.696      -0.998       0.667\n",
       "category_Toners                     -0.0039      0.161     -0.024      0.981      -0.319       0.311\n",
       "==============================================================================\n",
       "Omnibus:                      462.111   Durbin-Watson:                   1.847\n",
       "Prob(Omnibus):                  0.000   Jarque-Bera (JB):             2451.947\n",
       "Skew:                          -1.179   Prob(JB):                         0.00\n",
       "Kurtosis:                       8.411   Cond. No.                         434.\n",
       "==============================================================================\n",
       "\n",
       "Warnings:\n",
       "[1] Standard Errors assume that the covariance matrix of the errors is correctly specified.\n",
       "\"\"\""
      ]
     },
     "execution_count": 251,
     "metadata": {},
     "output_type": "execute_result"
    }
   ],
   "source": [
    "model_super_last.summary()"
   ]
  },
  {
   "cell_type": "code",
   "execution_count": 252,
   "metadata": {},
   "outputs": [],
   "source": [
    "# Statsmodels\n",
    "# Multiple Regression\n",
    "y_last_stats_2 = data_last[\"review_score\"]\n",
    "x_last_stats_2 = data_last[[\"log_n_of_reviews\", \"log_price\", \"category_Moisturizers\", \"category_Blemish_Acne_Treatments\",\n",
    "                         \"category_Eye_Creams_Treatments\",\"category_Eye_Masks\", \"category_Face_Masks\", \"category_Face_Oils\",\n",
    "                            \"category_Decollete_Neck_Creams\"]] \n",
    "                        \n",
    "f_last_2 ='''review_score~log_n_of_reviews+log_price+category_Moisturizers+\n",
    "        category_Blemish_Acne_Treatments+category_Eye_Creams_Treatments+category_Eye_Masks+category_Face_Masks+\n",
    "            category_Face_Oils+category_Decollete_Neck_Creams'''\n",
    "\n",
    "model_super_last_2 = smf.ols(formula = f_last_2, data = data_last).fit()"
   ]
  },
  {
   "cell_type": "code",
   "execution_count": 253,
   "metadata": {},
   "outputs": [
    {
     "data": {
      "text/html": [
       "<table class=\"simpletable\">\n",
       "<caption>OLS Regression Results</caption>\n",
       "<tr>\n",
       "  <th>Dep. Variable:</th>      <td>review_score</td>   <th>  R-squared:         </th> <td>   0.104</td>\n",
       "</tr>\n",
       "<tr>\n",
       "  <th>Model:</th>                   <td>OLS</td>       <th>  Adj. R-squared:    </th> <td>   0.099</td>\n",
       "</tr>\n",
       "<tr>\n",
       "  <th>Method:</th>             <td>Least Squares</td>  <th>  F-statistic:       </th> <td>   21.72</td>\n",
       "</tr>\n",
       "<tr>\n",
       "  <th>Date:</th>             <td>Fri, 19 Apr 2019</td> <th>  Prob (F-statistic):</th> <td>3.96e-35</td>\n",
       "</tr>\n",
       "<tr>\n",
       "  <th>Time:</th>                 <td>10:22:56</td>     <th>  Log-Likelihood:    </th> <td> -933.68</td>\n",
       "</tr>\n",
       "<tr>\n",
       "  <th>No. Observations:</th>      <td>  1689</td>      <th>  AIC:               </th> <td>   1887.</td>\n",
       "</tr>\n",
       "<tr>\n",
       "  <th>Df Residuals:</th>          <td>  1679</td>      <th>  BIC:               </th> <td>   1942.</td>\n",
       "</tr>\n",
       "<tr>\n",
       "  <th>Df Model:</th>              <td>     9</td>      <th>                     </th>     <td> </td>   \n",
       "</tr>\n",
       "<tr>\n",
       "  <th>Covariance Type:</th>      <td>nonrobust</td>    <th>                     </th>     <td> </td>   \n",
       "</tr>\n",
       "</table>\n",
       "<table class=\"simpletable\">\n",
       "<tr>\n",
       "                  <td></td>                    <th>coef</th>     <th>std err</th>      <th>t</th>      <th>P>|t|</th>  <th>[0.025</th>    <th>0.975]</th>  \n",
       "</tr>\n",
       "<tr>\n",
       "  <th>Intercept</th>                        <td>    4.1460</td> <td>    0.073</td> <td>   56.531</td> <td> 0.000</td> <td>    4.002</td> <td>    4.290</td>\n",
       "</tr>\n",
       "<tr>\n",
       "  <th>log_n_of_reviews</th>                 <td>   -0.0077</td> <td>    0.006</td> <td>   -1.306</td> <td> 0.192</td> <td>   -0.019</td> <td>    0.004</td>\n",
       "</tr>\n",
       "<tr>\n",
       "  <th>log_price</th>                        <td>    0.0356</td> <td>    0.016</td> <td>    2.160</td> <td> 0.031</td> <td>    0.003</td> <td>    0.068</td>\n",
       "</tr>\n",
       "<tr>\n",
       "  <th>category_Moisturizers</th>            <td>   -0.0792</td> <td>    0.026</td> <td>   -3.103</td> <td> 0.002</td> <td>   -0.129</td> <td>   -0.029</td>\n",
       "</tr>\n",
       "<tr>\n",
       "  <th>category_Blemish_Acne_Treatments</th> <td>   -0.2279</td> <td>    0.058</td> <td>   -3.938</td> <td> 0.000</td> <td>   -0.341</td> <td>   -0.114</td>\n",
       "</tr>\n",
       "<tr>\n",
       "  <th>category_Eye_Creams_Treatments</th>   <td>   -0.3923</td> <td>    0.034</td> <td>  -11.617</td> <td> 0.000</td> <td>   -0.459</td> <td>   -0.326</td>\n",
       "</tr>\n",
       "<tr>\n",
       "  <th>category_Eye_Masks</th>               <td>   -0.3117</td> <td>    0.096</td> <td>   -3.246</td> <td> 0.001</td> <td>   -0.500</td> <td>   -0.123</td>\n",
       "</tr>\n",
       "<tr>\n",
       "  <th>category_Face_Masks</th>              <td>    0.0134</td> <td>    0.071</td> <td>    0.187</td> <td> 0.852</td> <td>   -0.127</td> <td>    0.154</td>\n",
       "</tr>\n",
       "<tr>\n",
       "  <th>category_Face_Oils</th>               <td>    0.1362</td> <td>    0.043</td> <td>    3.174</td> <td> 0.002</td> <td>    0.052</td> <td>    0.220</td>\n",
       "</tr>\n",
       "<tr>\n",
       "  <th>category_Decollete_Neck_Creams</th>   <td>   -0.4363</td> <td>    0.118</td> <td>   -3.695</td> <td> 0.000</td> <td>   -0.668</td> <td>   -0.205</td>\n",
       "</tr>\n",
       "</table>\n",
       "<table class=\"simpletable\">\n",
       "<tr>\n",
       "  <th>Omnibus:</th>       <td>469.538</td> <th>  Durbin-Watson:     </th> <td>   1.836</td>\n",
       "</tr>\n",
       "<tr>\n",
       "  <th>Prob(Omnibus):</th> <td> 0.000</td>  <th>  Jarque-Bera (JB):  </th> <td>2507.998</td>\n",
       "</tr>\n",
       "<tr>\n",
       "  <th>Skew:</th>          <td>-1.198</td>  <th>  Prob(JB):          </th> <td>    0.00</td>\n",
       "</tr>\n",
       "<tr>\n",
       "  <th>Kurtosis:</th>      <td> 8.467</td>  <th>  Cond. No.          </th> <td>    68.6</td>\n",
       "</tr>\n",
       "</table><br/><br/>Warnings:<br/>[1] Standard Errors assume that the covariance matrix of the errors is correctly specified."
      ],
      "text/plain": [
       "<class 'statsmodels.iolib.summary.Summary'>\n",
       "\"\"\"\n",
       "                            OLS Regression Results                            \n",
       "==============================================================================\n",
       "Dep. Variable:           review_score   R-squared:                       0.104\n",
       "Model:                            OLS   Adj. R-squared:                  0.099\n",
       "Method:                 Least Squares   F-statistic:                     21.72\n",
       "Date:                Fri, 19 Apr 2019   Prob (F-statistic):           3.96e-35\n",
       "Time:                        10:22:56   Log-Likelihood:                -933.68\n",
       "No. Observations:                1689   AIC:                             1887.\n",
       "Df Residuals:                    1679   BIC:                             1942.\n",
       "Df Model:                           9                                         \n",
       "Covariance Type:            nonrobust                                         \n",
       "====================================================================================================\n",
       "                                       coef    std err          t      P>|t|      [0.025      0.975]\n",
       "----------------------------------------------------------------------------------------------------\n",
       "Intercept                            4.1460      0.073     56.531      0.000       4.002       4.290\n",
       "log_n_of_reviews                    -0.0077      0.006     -1.306      0.192      -0.019       0.004\n",
       "log_price                            0.0356      0.016      2.160      0.031       0.003       0.068\n",
       "category_Moisturizers               -0.0792      0.026     -3.103      0.002      -0.129      -0.029\n",
       "category_Blemish_Acne_Treatments    -0.2279      0.058     -3.938      0.000      -0.341      -0.114\n",
       "category_Eye_Creams_Treatments      -0.3923      0.034    -11.617      0.000      -0.459      -0.326\n",
       "category_Eye_Masks                  -0.3117      0.096     -3.246      0.001      -0.500      -0.123\n",
       "category_Face_Masks                  0.0134      0.071      0.187      0.852      -0.127       0.154\n",
       "category_Face_Oils                   0.1362      0.043      3.174      0.002       0.052       0.220\n",
       "category_Decollete_Neck_Creams      -0.4363      0.118     -3.695      0.000      -0.668      -0.205\n",
       "==============================================================================\n",
       "Omnibus:                      469.538   Durbin-Watson:                   1.836\n",
       "Prob(Omnibus):                  0.000   Jarque-Bera (JB):             2507.998\n",
       "Skew:                          -1.198   Prob(JB):                         0.00\n",
       "Kurtosis:                       8.467   Cond. No.                         68.6\n",
       "==============================================================================\n",
       "\n",
       "Warnings:\n",
       "[1] Standard Errors assume that the covariance matrix of the errors is correctly specified.\n",
       "\"\"\""
      ]
     },
     "execution_count": 253,
     "metadata": {},
     "output_type": "execute_result"
    }
   ],
   "source": [
    "model_super_last_2.summary()"
   ]
  },
  {
   "cell_type": "code",
   "execution_count": null,
   "metadata": {},
   "outputs": [],
   "source": []
  }
 ],
 "metadata": {
  "kernelspec": {
   "display_name": "Python 3",
   "language": "python",
   "name": "python3"
  },
  "language_info": {
   "codemirror_mode": {
    "name": "ipython",
    "version": 3
   },
   "file_extension": ".py",
   "mimetype": "text/x-python",
   "name": "python",
   "nbconvert_exporter": "python",
   "pygments_lexer": "ipython3",
   "version": "3.7.1"
  }
 },
 "nbformat": 4,
 "nbformat_minor": 2
}
